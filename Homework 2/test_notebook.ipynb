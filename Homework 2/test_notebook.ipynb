{
 "cells": [
  {
   "cell_type": "code",
   "execution_count": 1,
   "metadata": {},
   "outputs": [],
   "source": [
    "#############################################################\n",
    "## ASSIGNMENT 2 CODE SKELETON\n",
    "## RELEASED: 1/29/2019\n",
    "## DUE: 2/5/2019\n",
    "## DESCRIPTION: In this assignment, you will explore the\n",
    "## text classification problem of identifying complex words.\n",
    "## We have provided the following skeleton for your code,\n",
    "## with several helper functions, and all the required\n",
    "## functions you need to write.\n",
    "#############################################################\n",
    "\n",
    "from collections import defaultdict\n",
    "import gzip\n",
    "import numpy as np\n",
    "from sklearn.naive_bayes import GaussianNB\n",
    "from sklearn.linear_model import LogisticRegression\n",
    "# import matplotlib.pyplot as plt\n",
    "\n",
    "#### 1. Evaluation Metrics ####\n",
    "\n",
    "## Input: y_pred, a list of length n with the predicted labels,\n",
    "## y_true, a list of length n with the true labels\n",
    "\n",
    "## Calculates the precision of the predicted labels\n",
    "def get_precision(y_pred, y_true):\n",
    "    # true positive: system says positive when truly positive\n",
    "    true_positives = len([pred for idx, pred in enumerate(y_pred) if pred == 1 if y_true[idx] == 1])\n",
    "    # false positive = system says positive when truly negative\n",
    "    false_positives = len([pred for idx, pred in enumerate(y_pred) if pred == 1 if y_true[idx] == 0])\n",
    "    precision = true_positives / (true_positives + false_positives)\n",
    "    return precision\n",
    "    \n",
    "## Calculates the recall of the predicted labels\n",
    "def get_recall(y_pred, y_true):\n",
    "    # true positive: system says positive when truly positive\n",
    "    true_positives = len([pred for idx, pred in enumerate(y_pred) if pred == 1 if y_true[idx] == 1])\n",
    "    # false negative = system says negative when truly positive\n",
    "    false_negatives = len([pred for idx, pred in enumerate(y_pred) if pred == 0 if y_true[idx] == 1])\n",
    "    recall = true_positives / (true_positives + false_negatives)\n",
    "    return recall\n",
    "\n",
    "## Calculates the f-score of the predicted labels\n",
    "def get_fscore(y_pred, y_true):\n",
    "    precision = get_precision(y_pred, y_true)\n",
    "    recall = get_recall(y_pred, y_true)\n",
    "    fscore = (2 * precision * recall) / (precision + recall)\n",
    "    return fscore"
   ]
  },
  {
   "cell_type": "code",
   "execution_count": 2,
   "metadata": {},
   "outputs": [],
   "source": [
    "#### 2. Complex Word Identification ####\n",
    "\n",
    "## Loads in the words and labels of one of the datasets\n",
    "def load_file(data_file):\n",
    "    words = []\n",
    "    labels = []   \n",
    "    with open(data_file, 'rt', encoding=\"utf8\") as f:\n",
    "        i = 0\n",
    "        for line in f:\n",
    "            if i > 0:\n",
    "                line_split = line[:-1].split(\"\\t\")\n",
    "                words.append(line_split[0].lower())\n",
    "                labels.append(int(line_split[1]))\n",
    "            i += 1\n",
    "    return words, labels\n",
    "\n",
    "### 2.1: A very simple baseline\n",
    "\n",
    "## Makes feature matrix for all complex\n",
    "def all_complex_feature(words):\n",
    "    return [1 for word in words]\n",
    "\n",
    "## Labels every word complex\n",
    "def all_complex(data_file):\n",
    "    words, y_true = load_file(data_file)\n",
    "    y_pred = all_complex_feature(words)\n",
    "    precision = get_precision(y_pred, y_true)\n",
    "    recall = get_recall(y_pred, y_true)\n",
    "    fscore = get_fscore(y_pred, y_true)\n",
    "    performance = [precision, recall, fscore]\n",
    "    return performance"
   ]
  },
  {
   "cell_type": "code",
   "execution_count": 3,
   "metadata": {},
   "outputs": [],
   "source": [
    "training_file = '/Users/sppatankar/Desktop/CIS 530/Homework 2/data/complex_words_training.txt'\n",
    "development_file = '/Users/sppatankar/Desktop/CIS 530/Homework 2/data/complex_words_development.txt'"
   ]
  },
  {
   "cell_type": "code",
   "execution_count": 4,
   "metadata": {},
   "outputs": [],
   "source": [
    "### 2.2: Word length thresholding\n",
    "\n",
    "## Makes feature matrix for word_length_threshold\n",
    "def length_threshold_feature(words, threshold):\n",
    "    feature = []\n",
    "    for word in words:\n",
    "        if len(word) >= threshold:\n",
    "            feature.append(1)\n",
    "        else:\n",
    "            feature.append(0)\n",
    "    return feature\n",
    "\n",
    "## Finds the best length threshold by f-score, and uses this threshold to\n",
    "## classify the training and development set\n",
    "def word_length_threshold(training_file, development_file):\n",
    "    # training set data\n",
    "    words_train_file, labels_train_file = load_file(training_file)\n",
    "    precisions = []\n",
    "    recalls = []\n",
    "    fscores = []\n",
    "    thresholds = range(10)\n",
    "    for threshold in thresholds:\n",
    "        y_pred_train = length_threshold_feature(words_train_file, threshold)\n",
    "        precisions.append(get_precision(y_pred_train, labels_train_file))\n",
    "        recalls.append(get_recall(y_pred_train, labels_train_file))\n",
    "        fscores.append(get_fscore(y_pred_train, labels_train_file))\n",
    "    threshold_choice = np.argmax(fscores)\n",
    "    print(threshold_choice)\n",
    "    # re-train with chosen hyperparameter value\n",
    "    y_pred_train = length_threshold_feature(words_train_file, threshold_choice)\n",
    "    tprecision = get_precision(y_pred_train, labels_train_file)\n",
    "    trecall = get_recall(y_pred_train, labels_train_file)\n",
    "    tfscore = get_fscore(y_pred_train, labels_train_file)\n",
    "    training_performance = [tprecision, trecall, tfscore]\n",
    "    # development set data\n",
    "    words_dev_file, labels_dev_file = load_file(development_file)\n",
    "    y_pred_dev = length_threshold_feature(words_dev_file, threshold_choice)\n",
    "    dprecision = get_precision(y_pred_dev, labels_train_file)\n",
    "    drecall = get_recall(y_pred_dev, labels_train_file)\n",
    "    dfscore = get_fscore(y_pred_dev, labels_train_file)\n",
    "    development_performance = [dprecision, drecall, dfscore]\n",
    "    return training_performance, development_performance"
   ]
  },
  {
   "cell_type": "code",
   "execution_count": 5,
   "metadata": {},
   "outputs": [
    {
     "name": "stdout",
     "output_type": "stream",
     "text": [
      "7\n"
     ]
    },
    {
     "data": {
      "text/plain": [
       "([0.6007401315789473, 0.8440207972270364, 0.7018976699495555],\n",
       " [0.4280936454849498, 0.5752808988764045, 0.4908916586768936])"
      ]
     },
     "execution_count": 5,
     "metadata": {},
     "output_type": "execute_result"
    }
   ],
   "source": [
    "word_length_threshold(training_file, development_file)"
   ]
  },
  {
   "cell_type": "code",
   "execution_count": 23,
   "metadata": {},
   "outputs": [],
   "source": [
    "### 2.3: Word frequency thresholding\n",
    "\n",
    "## Loads Google NGram counts\n",
    "def load_ngram_counts(ngram_counts_file): \n",
    "    counts = defaultdict(int) \n",
    "    with gzip.open(ngram_counts_file, 'rt') as f: \n",
    "        for line in f:\n",
    "            token, count = line.strip().split('\\t') \n",
    "            if token[0].islower(): \n",
    "                counts[token] = int(count) \n",
    "    return counts\n",
    "\n",
    "ngram_counts_file = '/Users/sppatankar/Desktop/CIS 530/Homework 2/ngram_counts.txt.gz'\n",
    "counts = load_ngram_counts(ngram_counts_file)\n",
    "\n",
    "# Finds the best frequency threshold by f-score, and uses this threshold to\n",
    "## classify the training and development set\n",
    "\n",
    "## Make feature matrix for word_frequency_threshold\n",
    "\n",
    "def frequency_threshold_feature(words, threshold, counts):\n",
    "    feature = []\n",
    "    for word in words:\n",
    "        if counts[word] < threshold: # infrequent words are complex\n",
    "            feature.append(1)\n",
    "        else:\n",
    "            feature.append(0)\n",
    "    return feature\n",
    "\n",
    "def word_frequency_threshold(training_file, development_file, counts):\n",
    "    # training set data\n",
    "    words_train_file, labels_train_file = load_file(training_file)\n",
    "    precisions = []\n",
    "    recalls = []\n",
    "    fscores = []\n",
    "    thresholds = list(range(1000000, 70000000, 100000))\n",
    "    for threshold in thresholds:\n",
    "        y_pred_train = frequency_threshold_feature(words_train_file, threshold, counts)\n",
    "        precisions.append(get_precision(y_pred_train, labels_train_file))\n",
    "        recalls.append(get_recall(y_pred_train, labels_train_file))\n",
    "        fscores.append(get_fscore(y_pred_train, labels_train_file))\n",
    "    threshold_choice = thresholds[np.argmax(fscores)]\n",
    "    print(threshold_choice)\n",
    "    # re-train with chosen hyperparameter value\n",
    "    y_pred_train = frequency_threshold_feature(words_train_file, threshold_choice, counts)\n",
    "    tprecision = get_precision(y_pred_train, labels_train_file)\n",
    "    trecall = get_recall(y_pred_train, labels_train_file)\n",
    "    tfscore = get_fscore(y_pred_train, labels_train_file)\n",
    "    training_performance = [tprecision, trecall, tfscore]\n",
    "    # development set data\n",
    "    words_dev_file, labels_dev_file = load_file(development_file)\n",
    "    y_pred_dev = frequency_threshold_feature(words_dev_file, threshold_choice, counts)\n",
    "    dprecision = get_precision(y_pred_dev, labels_train_file)\n",
    "    drecall = get_recall(y_pred_dev, labels_train_file)\n",
    "    dfscore = get_fscore(y_pred_dev, labels_train_file)\n",
    "    development_performance = [dprecision, drecall, dfscore]\n",
    "    return training_performance, development_performance"
   ]
  },
  {
   "cell_type": "code",
   "execution_count": 24,
   "metadata": {},
   "outputs": [
    {
     "name": "stdout",
     "output_type": "stream",
     "text": [
      "19900000\n"
     ]
    },
    {
     "data": {
      "text/plain": [
       "([0.5657051282051282, 0.8157134604274986, 0.6680861130825645],\n",
       " [0.4353312302839117, 0.6202247191011236, 0.5115848007414273])"
      ]
     },
     "execution_count": 24,
     "metadata": {},
     "output_type": "execute_result"
    }
   ],
   "source": [
    "word_frequency_threshold(training_file, development_file, counts)"
   ]
  },
  {
   "cell_type": "code",
   "execution_count": 12,
   "metadata": {},
   "outputs": [],
   "source": [
    "### 2.4: Naive Bayes\n",
    "        \n",
    "## Trains a Naive Bayes classifier using length and frequency features\n",
    "def naive_bayes(training_file, development_file, counts):\n",
    "    \n",
    "    words_train_file, labels_train_file = load_file(training_file)\n",
    "    precisions = []\n",
    "    recalls = []\n",
    "    fscores = []\n",
    "    thresholds = range(10)\n",
    "    for threshold in thresholds:\n",
    "        y_pred_train = length_threshold_feature(words_train_file, threshold)\n",
    "        precisions.append(get_precision(y_pred_train, labels_train_file))\n",
    "        recalls.append(get_recall(y_pred_train, labels_train_file))\n",
    "        fscores.append(get_fscore(y_pred_train, labels_train_file))\n",
    "    threshold_choice_length = np.argmax(fscores)\n",
    "    train_length_feat = length_threshold_feature(words_train_file, threshold_choice_length)\n",
    "    \n",
    "    precisions = []\n",
    "    recalls = []\n",
    "    fscores = []\n",
    "    thresholds = list(range(1000000, 70000000, 100000))\n",
    "    for threshold in thresholds:\n",
    "        y_pred_train = frequency_threshold_feature(words_train_file, threshold, counts)\n",
    "        precisions.append(get_precision(y_pred_train, labels_train_file))\n",
    "        recalls.append(get_recall(y_pred_train, labels_train_file))\n",
    "        fscores.append(get_fscore(y_pred_train, labels_train_file))\n",
    "    threshold_choice_freq = thresholds[np.argmax(fscores)]\n",
    "    train_freq_feat = frequency_threshold_feature(words_train_file, threshold_choice_freq, counts)\n",
    "    \n",
    "    X_train = np.column_stack((train_length_feat, train_freq_feat))\n",
    "    X_train = (X_train - X_train.mean(axis = 0)) / X_train.std(axis = 0) # normalize\n",
    "    Y_train = np.asarray(labels_train_file)\n",
    "    clf = GaussianNB()\n",
    "    clf.fit(X_train, Y_train)\n",
    "    Y_pred_train = clf.predict(X_train)\n",
    "    tprecision = get_precision(Y_pred_train.tolist(), Y_train.tolist())\n",
    "    trecall = get_recall(Y_pred_train.tolist(), Y_train.tolist())\n",
    "    tfscore = get_fscore(Y_pred_train.tolist(), Y_train.tolist())\n",
    "    training_performance = (tprecision, trecall, tfscore)\n",
    "    \n",
    "    words_dev_file, labels_dev_file = load_file(development_file)\n",
    "    dev_length_feat = length_threshold_feature(words_dev_file, threshold_choice_length)\n",
    "    dev_freq_feat = frequency_threshold_feature(words_dev_file, threshold_choice_freq, counts)\n",
    "    X_dev = np.column_stack((dev_length_feat, dev_freq_feat))\n",
    "    X_dev = (X_dev - X_train.mean(axis = 0)) / X_train.std(axis = 0) # normalize\n",
    "    Y_dev = np.asarray(labels_dev_file)\n",
    "\n",
    "    Y_pred_dev = clf.predict(X_dev)\n",
    "    dprecision = get_precision(Y_pred_dev.tolist(), Y_dev.tolist())\n",
    "    drecall = get_recall(Y_pred_dev.tolist(), Y_dev.tolist())\n",
    "    dfscore = get_fscore(Y_pred_dev.tolist(), Y_dev.tolist())\n",
    "    development_performance = (dprecision, drecall, dfscore)\n",
    "    \n",
    "    return development_performance"
   ]
  },
  {
   "cell_type": "code",
   "execution_count": 13,
   "metadata": {},
   "outputs": [
    {
     "data": {
      "text/plain": [
       "(0.418, 1.0, 0.5895627644569816)"
      ]
     },
     "execution_count": 13,
     "metadata": {},
     "output_type": "execute_result"
    }
   ],
   "source": [
    "dev_perf = naive_bayes(training_file, development_file, counts)\n",
    "dev_perf"
   ]
  },
  {
   "cell_type": "code",
   "execution_count": 25,
   "metadata": {},
   "outputs": [],
   "source": [
    "### 2.5: Logistic Regression\n",
    "\n",
    "## Trains a Logistic Regression classifier using length and frequency features\n",
    "def logistic_regression(training_file, development_file, counts):\n",
    "    \n",
    "    words_train_file, labels_train_file = load_file(training_file)\n",
    "    precisions = []\n",
    "    recalls = []\n",
    "    fscores = []\n",
    "    thresholds = range(10)\n",
    "    for threshold in thresholds:\n",
    "        y_pred_train = length_threshold_feature(words_train_file, threshold)\n",
    "        precisions.append(get_precision(y_pred_train, labels_train_file))\n",
    "        recalls.append(get_recall(y_pred_train, labels_train_file))\n",
    "        fscores.append(get_fscore(y_pred_train, labels_train_file))\n",
    "    threshold_choice_length = np.argmax(fscores)\n",
    "    train_length_feat = length_threshold_feature(words_train_file, threshold_choice_length)\n",
    "    \n",
    "    precisions = []\n",
    "    recalls = []\n",
    "    fscores = []\n",
    "    thresholds = list(range(1000000, 70000000, 100000))\n",
    "    for threshold in thresholds:\n",
    "        y_pred_train = frequency_threshold_feature(words_train_file, threshold, counts)\n",
    "        precisions.append(get_precision(y_pred_train, labels_train_file))\n",
    "        recalls.append(get_recall(y_pred_train, labels_train_file))\n",
    "        fscores.append(get_fscore(y_pred_train, labels_train_file))\n",
    "    threshold_choice_freq = thresholds[np.argmax(fscores)]\n",
    "    print(threshold_choice_freq)\n",
    "    train_freq_feat = frequency_threshold_feature(words_train_file, threshold_choice_freq, counts)\n",
    "    \n",
    "    X_train = np.column_stack((train_length_feat, train_freq_feat))\n",
    "    X_train = (X_train - X_train.mean(axis = 0)) / X_train.std(axis = 0) # normalize\n",
    "    Y_train = np.asarray(labels_train_file)\n",
    "    clf = LogisticRegression()\n",
    "    clf.fit(X_train, Y_train)\n",
    "    Y_pred_train = clf.predict(X_train)\n",
    "    tprecision = get_precision(Y_pred_train.tolist(), Y_train.tolist())\n",
    "    trecall = get_recall(Y_pred_train.tolist(), Y_train.tolist())\n",
    "    tfscore = get_fscore(Y_pred_train.tolist(), Y_train.tolist())\n",
    "    training_performance = (tprecision, trecall, tfscore)\n",
    "    \n",
    "    words_dev_file, labels_dev_file = load_file(development_file)\n",
    "    dev_length_feat = length_threshold_feature(words_dev_file, threshold_choice_length)\n",
    "    dev_freq_feat = frequency_threshold_feature(words_dev_file, threshold_choice_freq, counts)\n",
    "    X_dev = np.column_stack((dev_length_feat, dev_freq_feat))\n",
    "    X_dev = (X_dev - X_train.mean(axis = 0)) / X_train.std(axis = 0) # normalize\n",
    "    Y_dev = np.asarray(labels_dev_file)\n",
    "\n",
    "    Y_pred_dev = clf.predict(X_dev)\n",
    "    dprecision = get_precision(Y_pred_dev.tolist(), Y_dev.tolist())\n",
    "    drecall = get_recall(Y_pred_dev.tolist(), Y_dev.tolist())\n",
    "    dfscore = get_fscore(Y_pred_dev.tolist(), Y_dev.tolist())\n",
    "    development_performance = (dprecision, drecall, dfscore)\n",
    "    \n",
    "    return development_performance"
   ]
  },
  {
   "cell_type": "code",
   "execution_count": 26,
   "metadata": {},
   "outputs": [
    {
     "name": "stdout",
     "output_type": "stream",
     "text": [
      "19900000\n"
     ]
    },
    {
     "name": "stderr",
     "output_type": "stream",
     "text": [
      "/Library/Frameworks/Python.framework/Versions/3.7/lib/python3.7/site-packages/sklearn/linear_model/logistic.py:433: FutureWarning: Default solver will be changed to 'lbfgs' in 0.22. Specify a solver to silence this warning.\n",
      "  FutureWarning)\n"
     ]
    },
    {
     "data": {
      "text/plain": [
       "(0.5221799746514575, 0.9856459330143541, 0.6826843413421706)"
      ]
     },
     "execution_count": 26,
     "metadata": {},
     "output_type": "execute_result"
    }
   ],
   "source": [
    "dev_perf = logistic_regression(training_file, development_file, counts)\n",
    "dev_perf"
   ]
  },
  {
   "cell_type": "code",
   "execution_count": null,
   "metadata": {},
   "outputs": [],
   "source": [
    "### 2.7: Build your own classifier\n",
    "\n",
    "## Trains a classifier of your choosing, predicts labels for the test dataset\n",
    "## and writes the predicted labels to the text file 'test_labels.txt',\n",
    "## with ONE LABEL PER LINE\n",
    "\n",
    "\n",
    "if __name__ == \"__main__\":\n",
    "    training_file = \"data/complex_words_training.txt\"\n",
    "    development_file = \"data/complex_words_development.txt\"\n",
    "    test_file = \"data/complex_words_test_unlabeled.txt\"\n",
    "\n",
    "    train_data = load_file(training_file)\n",
    "    \n",
    "    ngram_counts_file = \"ngram_counts.txt.gz\"\n",
    "    counts = load_ngram_counts(ngram_counts_file)"
   ]
  }
 ],
 "metadata": {
  "kernelspec": {
   "display_name": "Python 3",
   "language": "python",
   "name": "python3"
  },
  "language_info": {
   "codemirror_mode": {
    "name": "ipython",
    "version": 3
   },
   "file_extension": ".py",
   "mimetype": "text/x-python",
   "name": "python",
   "nbconvert_exporter": "python",
   "pygments_lexer": "ipython3",
   "version": "3.7.3"
  }
 },
 "nbformat": 4,
 "nbformat_minor": 2
}
