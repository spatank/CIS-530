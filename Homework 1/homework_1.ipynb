{
 "cells": [
  {
   "cell_type": "code",
   "execution_count": 1,
   "metadata": {},
   "outputs": [],
   "source": [
    "'''Homework 1 Python Questions\n",
    "\n",
    "This is an individual homework\n",
    "Implement the following functions.\n",
    "\n",
    "Do not add any more import lines to this file than the ones\n",
    "already here without asking for permission on Piazza.\n",
    "Use the regular expression tools built into Python; do NOT use bash.\n",
    "'''\n",
    "\n",
    "import re\n",
    "import numpy as np"
   ]
  },
  {
   "cell_type": "code",
   "execution_count": 2,
   "metadata": {},
   "outputs": [],
   "source": [
    "def check_for_foo_or_bar(text):\n",
    "    p_1 = re.compile(r'\\b[fF]oo\\b')\n",
    "    p_2 = re.compile(r'\\b[bB]ar\\b')\n",
    "    if p_1.search(text) and p_2.search(text):\n",
    "        return True\n",
    "    return False"
   ]
  },
  {
   "cell_type": "code",
   "execution_count": 66,
   "metadata": {},
   "outputs": [],
   "source": [
    "def replace_rgb(text):\n",
    "    # p_1 = r'(?=^)#[\\d][a-zA-Z\\d]{2,5}(?=$)'\n",
    "    p_1 = r'(?=^|\\s)#[\\d][a-zA-Z0-9\\d]{2,5}(?=\\s)'\n",
    "    # p_2 = r'(?=^)rgb\\([\\d]{1,3},[\\s]?[\\d]{1,3},[\\s]?[\\d]{1,3}\\)(?=$)'\n",
    "    p_2 = r'(?=^|\\s)rgb\\([\\d]{1,3}[\\.]?[\\d]?,[\\s]?[\\d]{1,3}[\\.]?[\\d]?,[\\s]?[\\d]{1,3}[\\.]?[\\d]?\\)(?=\\s)'\n",
    "    # p_3 = r'(?=^)rgb\\(\\d\\.\\d,[\\s]?\\d\\.\\d,[\\s]?\\d\\.\\d\\)(?=$)'\n",
    "    replacements = [(p_1, 'COLOR'), (p_2, 'COLOR')]\n",
    "    for pattern, replace_with in replacements:\n",
    "        text = re.sub(pattern, replace_with, text)\n",
    "    return text"
   ]
  },
  {
   "cell_type": "code",
   "execution_count": 67,
   "metadata": {},
   "outputs": [
    {
     "data": {
      "text/plain": [
       "' #0b013b foo'"
      ]
     },
     "execution_count": 67,
     "metadata": {},
     "output_type": "execute_result"
    }
   ],
   "source": [
    "text = ' #0b013b foo'\n",
    "replace_rgb(text)"
   ]
  },
  {
   "cell_type": "code",
   "execution_count": 4,
   "metadata": {},
   "outputs": [],
   "source": [
    "def create_matrix(num_rows, num_cols):   \n",
    "    mat = []\n",
    "    for i in range(num_rows+1):\n",
    "        row = []\n",
    "        for j in range(num_cols+1):\n",
    "            row.append(0)\n",
    "        mat.append(row)\n",
    "    return mat "
   ]
  },
  {
   "cell_type": "code",
   "execution_count": 26,
   "metadata": {},
   "outputs": [],
   "source": [
    "def edit_distance(str_1, str_2):\n",
    "    m = len(str_1)\n",
    "    n = len(str_2)\n",
    "    matrix = []\n",
    "    for i in range(m+1):\n",
    "        row = []\n",
    "        for j in range(n+1):\n",
    "            row.append(0)\n",
    "        matrix.append(row)\n",
    "    # distance matrix initialized \n",
    "    for i in range(m + 1):\n",
    "        matrix[i][0] = i\n",
    "    for j in range(n + 1): \n",
    "        matrix[0][j] = j\n",
    "    for i in range(1, m + 1):\n",
    "        for j in range(1, n + 1):\n",
    "            deletion = matrix[i][j-1] + 1\n",
    "            insertion = matrix[i-1][j-1] + 1\n",
    "            if str_1[i-1] != str_2[j-1]:\n",
    "                substitution = matrix[i][j-1] + 1\n",
    "            else:\n",
    "                substitution = matrix[i][j-1]\n",
    "            insertion = matrix[i][j-1] + 1 \n",
    "            matrix[i][j] = min(deletion, \n",
    "                               substitution, \n",
    "                               insertion)\n",
    "    return matrix[m + 1][n + 1]"
   ]
  },
  {
   "cell_type": "code",
   "execution_count": 49,
   "metadata": {},
   "outputs": [],
   "source": [
    "def edit_distance(str_1, str_2):\n",
    "    rows = len(str_1) + 1\n",
    "    cols = len(str_2) + 1\n",
    "    dist = []\n",
    "    for i in range(rows):\n",
    "        row = []\n",
    "        for j in range(cols):\n",
    "            row.append(0)\n",
    "        dist.append(row)\n",
    "    for i in range(1, rows):\n",
    "        dist[i][0] = i\n",
    "    for j in range(1, cols):\n",
    "        dist[0][j] = j\n",
    "    for j in range(1, cols):\n",
    "        for i in range(1, rows):\n",
    "            if str_1[i - 1] == str_2[j - 1]:\n",
    "                cost = 0\n",
    "            else:\n",
    "                cost = 1\n",
    "            dist[i][j] = min(dist[i-1][j] + 1, \n",
    "                                 dist[i][j-1] + 1, \n",
    "                                 dist[i-1][j-1] + cost) \n",
    "    return dist[len(str_1)][len(str_2)]"
   ]
  },
  {
   "cell_type": "code",
   "execution_count": 50,
   "metadata": {},
   "outputs": [
    {
     "data": {
      "text/plain": [
       "1"
      ]
     },
     "execution_count": 50,
     "metadata": {},
     "output_type": "execute_result"
    }
   ],
   "source": [
    "str_1 = 'There'\n",
    "str_2 = 'There1'\n",
    "iterative_levenshtein(str_1, str_2)"
   ]
  },
  {
   "cell_type": "code",
   "execution_count": 51,
   "metadata": {},
   "outputs": [
    {
     "name": "stdout",
     "output_type": "stream",
     "text": [
      "5 6\n"
     ]
    },
    {
     "data": {
      "text/plain": [
       "1"
      ]
     },
     "execution_count": 51,
     "metadata": {},
     "output_type": "execute_result"
    }
   ],
   "source": [
    "edit_distance(str_1, str_2)"
   ]
  },
  {
   "cell_type": "code",
   "execution_count": null,
   "metadata": {},
   "outputs": [],
   "source": [
    "def wine_text_processing(wine_file_path, stopwords_file_path):\n",
    "  '''Process the two files to answer the following questions and output results to stdout.\n",
    "\n",
    "  1. What is the distribution over star ratings?\n",
    "  2. What are the 10 most common words used across all of the reviews, and how many times\n",
    "     is each used?\n",
    "  3. How many times does the word 'a' appear?\n",
    "  4. How many times does the word 'fruit' appear?\n",
    "  5. How many times does the word 'mineral' appear?\n",
    "  6. Common words (like 'a') are not as interesting as uncommon words (like 'mineral').\n",
    "     In natural language processing, we call these common words \"stop words\" and often\n",
    "     remove them before we process text. stopwords.txt gives you a list of some very\n",
    "     common words. Remove these stopwords from your reviews. Also, try converting all the\n",
    "     words to lower case (since we probably don't want to count 'fruit' and 'Fruit' as two\n",
    "     different words). Now what are the 10 most common words across all of the reviews,\n",
    "     and how many times is each used?\n",
    "  7. You should continue to use the preprocessed reviews for the following questions\n",
    "     (lower-cased, no stopwords).  What are the 10 most used words among the 5 star\n",
    "     reviews, and how many times is each used? \n",
    "  8. What are the 10 most used words among the 1 star reviews, and how many times is\n",
    "     each used? \n",
    "  9. Gather two sets of reviews: 1) Those that use the word \"red\" and 2) those that use the word\n",
    "     \"white\". What are the 10 most frequent words in the \"red\" reviews which do NOT appear in the\n",
    "     \"white\" reviews?\n",
    "  10. What are the 10 most frequent words in the \"white\" reviews which do NOT appear in the \"red\"\n",
    "      reviews?\n",
    "\n",
    "  No return value.\n",
    "  '''\n",
    "\n",
    "  return"
   ]
  }
 ],
 "metadata": {
  "kernelspec": {
   "display_name": "Python 3",
   "language": "python",
   "name": "python3"
  },
  "language_info": {
   "codemirror_mode": {
    "name": "ipython",
    "version": 3
   },
   "file_extension": ".py",
   "mimetype": "text/x-python",
   "name": "python",
   "nbconvert_exporter": "python",
   "pygments_lexer": "ipython3",
   "version": "3.7.3"
  }
 },
 "nbformat": 4,
 "nbformat_minor": 2
}
