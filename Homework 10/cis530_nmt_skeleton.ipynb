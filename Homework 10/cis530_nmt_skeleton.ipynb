{
  "nbformat": 4,
  "nbformat_minor": 0,
  "metadata": {
    "colab": {
      "name": "cis530_nmt_skeleton.ipynb",
      "provenance": [],
      "collapsed_sections": [],
      "machine_shape": "hm",
      "include_colab_link": true
    },
    "kernelspec": {
      "name": "python3",
      "display_name": "Python 3"
    },
    "accelerator": "GPU"
  },
  "cells": [
    {
      "cell_type": "markdown",
      "metadata": {
        "id": "view-in-github",
        "colab_type": "text"
      },
      "source": [
        "<a href=\"https://colab.research.google.com/github/spatank/CIS-530/blob/master/Homework%2010/cis530_nmt_skeleton.ipynb\" target=\"_parent\"><img src=\"https://colab.research.google.com/assets/colab-badge.svg\" alt=\"Open In Colab\"/></a>"
      ]
    },
    {
      "cell_type": "code",
      "metadata": {
        "id": "0QG0aHJSl2fF",
        "colab_type": "code",
        "outputId": "e569023e-4244-408b-842f-b953a3bcac50",
        "colab": {
          "base_uri": "https://localhost:8080/",
          "height": 122
        }
      },
      "source": [
        "# Mount Google Drive\n",
        "from google.colab import drive\n",
        "drive.mount('/content/Drive', force_remount = True)\n",
        "# When you run this block, you will need to click open a link to get some "
      ],
      "execution_count": 0,
      "outputs": [
        {
          "output_type": "stream",
          "text": [
            "Go to this URL in a browser: https://accounts.google.com/o/oauth2/auth?client_id=947318989803-6bn6qk8qdgf4n4g3pfee6491hc0brc4i.apps.googleusercontent.com&redirect_uri=urn%3aietf%3awg%3aoauth%3a2.0%3aoob&response_type=code&scope=email%20https%3a%2f%2fwww.googleapis.com%2fauth%2fdocs.test%20https%3a%2f%2fwww.googleapis.com%2fauth%2fdrive%20https%3a%2f%2fwww.googleapis.com%2fauth%2fdrive.photos.readonly%20https%3a%2f%2fwww.googleapis.com%2fauth%2fpeopleapi.readonly\n",
            "\n",
            "Enter your authorization code:\n",
            "··········\n",
            "Mounted at /content/Drive\n"
          ],
          "name": "stdout"
        }
      ]
    },
    {
      "cell_type": "code",
      "metadata": {
        "id": "q54i6aVL_hqy",
        "colab_type": "code",
        "colab": {}
      },
      "source": [
        "import os\n",
        "# TODO\n",
        "os.chdir('Drive/My Drive/CIS-530/Homework 10/data')"
      ],
      "execution_count": 0,
      "outputs": []
    },
    {
      "cell_type": "code",
      "metadata": {
        "id": "9ZFJl9Simjq9",
        "colab_type": "code",
        "colab": {}
      },
      "source": [
        "# Preprocess data to OpenNMT format\n",
        "for fname in ['train','dev','test']:\n",
        "  # TODO: create 6 files, English|Japanese data for train|dev|test, one sentence per line.\n",
        "  with open('split/' + fname, encoding='utf-8') as fr, open('split/en-' + fname + '.txt', 'w', encoding='utf-8') as fwe, open('split/ja-' + fname + '.txt', 'w', encoding='utf-8') as fwj:\n",
        "    for line in fr:\n",
        "      split_line = line.split('\\t')\n",
        "      english = split_line[0]\n",
        "      japanese = split_line[1]\n",
        "      fwe.write(english + '\\n')\n",
        "      fwj.write(japanese)"
      ],
      "execution_count": 0,
      "outputs": []
    },
    {
      "cell_type": "code",
      "metadata": {
        "id": "t0jd5AH2nOJ2",
        "colab_type": "code",
        "colab": {}
      },
      "source": [
        "# Install BPE (https://github.com/rsennrich/subword-nmt)\n",
        "# TODO\n",
        "!pip install subword-nmt"
      ],
      "execution_count": 0,
      "outputs": []
    },
    {
      "cell_type": "code",
      "metadata": {
        "id": "dAp16C4dowef",
        "colab_type": "code",
        "colab": {}
      },
      "source": [
        "# Apply BPE, following instructions from the Github repo\n",
        "# this takes around 15 minutes\n",
        "\n",
        "# TODO\n",
        "# codes_file is where the BPE information is stored. Name it as you like. \n",
        "\n",
        "# Learn and apply BPE for English data\n",
        "\n",
        "!subword-nmt learn-bpe -s 10000 < 'split/en-train.txt' > 'bpe/en-bpe' # learn from train\n",
        "!subword-nmt apply-bpe -c 'bpe/en-bpe' < 'split/en-train.txt' > 'bpe/en-train-bpe-out.txt' # apply to train\n",
        "!subword-nmt apply-bpe -c 'bpe/en-bpe' < 'split/en-dev.txt' > 'bpe/en-dev-bpe-out.txt' # apply to dev\n",
        "!subword-nmt apply-bpe -c 'bpe/en-bpe' < 'split/en-test.txt' > 'bpe/en-test-bpe-out.txt' # apply to test"
      ],
      "execution_count": 0,
      "outputs": []
    },
    {
      "cell_type": "code",
      "metadata": {
        "id": "19GvIbTtLFNT",
        "colab_type": "code",
        "colab": {}
      },
      "source": [
        "# Learn and apply BPE for Japanese data\n",
        "\n",
        "!subword-nmt learn-bpe -s 10000 < 'split/ja-train.txt' > 'bpe/ja-bpe' # learn from train\n",
        "!subword-nmt apply-bpe -c 'bpe/ja-bpe' < 'split/ja-train.txt' > 'bpe/ja-train-bpe-out.txt' # apply to train\n",
        "!subword-nmt apply-bpe -c 'bpe/ja-bpe' < 'split/ja-dev.txt' > 'bpe/ja-dev-bpe-out.txt' # apply to dev\n",
        "!subword-nmt apply-bpe -c 'bpe/ja-bpe' < 'split/ja-test.txt' > 'bpe/ja-test-bpe-out.txt' # apply to test"
      ],
      "execution_count": 0,
      "outputs": []
    },
    {
      "cell_type": "code",
      "metadata": {
        "id": "VYOb5XhacEyo",
        "colab_type": "code",
        "colab": {}
      },
      "source": [
        "# Install OpenNMT (https://github.com/OpenNMT/OpenNMT-py)\n",
        "# TODO\n",
        "!pip install OpenNMT-py"
      ],
      "execution_count": 0,
      "outputs": []
    },
    {
      "cell_type": "code",
      "metadata": {
        "id": "UAmLf8Gb4lO8",
        "colab_type": "code",
        "colab": {}
      },
      "source": [
        "# Run OpenNMT, following instructions from the Github repo\n",
        "# this takes 1-2 hours\n",
        "\n",
        "# TODO\n",
        "# Name the prefixes for data and checkpoints as you like\n",
        "!onmt_preprocess -train_src 'bpe/ja-train-bpe-out.txt' -train_tgt 'bpe/en-train-bpe-out.txt' -valid_src 'bpe/ja-dev-bpe-out.txt' -valid_tgt 'bpe/en-dev-bpe-out.txt' -save_data 'bpe/demo' -overwrite"
      ],
      "execution_count": 0,
      "outputs": []
    },
    {
      "cell_type": "code",
      "metadata": {
        "id": "h3PvsZBuYK4T",
        "colab_type": "code",
        "colab": {}
      },
      "source": [
        "!onmt_train -gpu_ranks 0 -data bpe/Demo/demo -save_model demo-model"
      ],
      "execution_count": 0,
      "outputs": []
    },
    {
      "cell_type": "code",
      "metadata": {
        "id": "TJzFwBhvWHs1",
        "colab_type": "code",
        "colab": {}
      },
      "source": [
        "!onmt_translate -model demo-model_step_100000.pt -src 'bpe/ja-test-bpe-out.txt' -output 'bpe/pred-bpe.txt' -replace_unk -verbose"
      ],
      "execution_count": 0,
      "outputs": []
    },
    {
      "cell_type": "code",
      "metadata": {
        "id": "NZmxX9x6tmlv",
        "colab_type": "code",
        "colab": {}
      },
      "source": [
        "# reverse BPE\n",
        "!sed -r 's/(@@ )|(@@ ?$)//g' 'bpe/pred-bpe.txt' > 'bpe/pred.txt'"
      ],
      "execution_count": 0,
      "outputs": []
    },
    {
      "cell_type": "code",
      "metadata": {
        "id": "3yn8f-FQG05m",
        "colab_type": "code",
        "colab": {}
      },
      "source": [
        "# Evaluate translations using BLEU\n",
        "!wget https://raw.githubusercontent.com/moses-smt/mosesdecoder/master/scripts/generic/multi-bleu.perl\n",
        "# TODO\n",
        "!perl multi-bleu.perl 'split/en-test.txt' < 'bpe/pred.txt'"
      ],
      "execution_count": 0,
      "outputs": []
    },
    {
      "cell_type": "code",
      "metadata": {
        "id": "JZb-VxTWIkhk",
        "colab_type": "code",
        "colab": {}
      },
      "source": [
        "import subprocess\n",
        "\n",
        "with open('split/en-test.txt', encoding = 'utf-8') as ref_file:\n",
        "  for idx, line in enumerate(ref_file):\n",
        "    if idx < 20:\n",
        "      line_file = 'ref_line_%d.txt' % idx\n",
        "      with open('bpe/lines/ref_lines/' + line_file, 'w', encoding = 'utf-8') as lf:\n",
        "        lf.write(line)\n",
        "\n",
        "with open('bpe/pred.txt', encoding = 'utf-8') as pred_file:\n",
        "  for idx, line in enumerate(pred_file):\n",
        "    if idx < 20:\n",
        "      line_file = 'pred_line_%d.txt' % idx\n",
        "      with open('bpe/lines/pred_lines/' + line_file, 'w', encoding = 'utf-8') as lf:\n",
        "        lf.write(line)\n",
        "\n",
        "for idx in range(20):\n",
        "  ref_file = 'bpe/lines/ref_lines/ref_line_%d.txt' % idx\n",
        "  pred_file = 'bpe/lines/pred_lines/pred_line_%d.txt' % idx\n",
        "  with open(ref_file, encoding = 'utf-8') as ref:\n",
        "    for line in ref:\n",
        "      print(idx, line)\n",
        "  with open(pred_file, encoding = 'utf-8') as pred:\n",
        "    for line in pred:\n",
        "      print(idx, line)\n",
        "  cp = subprocess.run(\"perl multi-bleu.perl '%s' < '%s'\" % (ref_file, pred_file), universal_newlines = True, stdout = subprocess.PIPE, stderr = subprocess.PIPE, shell = True)\n",
        "  print(cp.stdout)"
      ],
      "execution_count": 0,
      "outputs": []
    },
    {
      "cell_type": "code",
      "metadata": {
        "id": "ctkysQAkW-9C",
        "colab_type": "code",
        "colab": {}
      },
      "source": [
        "bleu_indiv = [0, 100, 0, 43.47, 0, 0, 0, 0, 34.57, 0, 0, 0, 0, 0, 0, 0, 0, 0, 0, 0]\n",
        "bleu = 5.84\n",
        "# Adequacy: how much of the meaning in the gold standard is present in the translation?\n",
        "adequacy = [0, 3, 3, 2, 1, 2, 1, 2, 3, 3, 0, 0, 2, 1, 2, 0, 0, 2, 3, 0]\n",
        "# Fluency: to what extent is the translation error free, grammatically as well as spelling wise?\n",
        "fluency = [3, 3, 3, 3, 3, 3, 1, 3, 3, 3, 0, 3, 3, 1, 3, 1, 3, 3, 3, 1]"
      ],
      "execution_count": 0,
      "outputs": []
    },
    {
      "cell_type": "code",
      "metadata": {
        "id": "hkdPVUu6lFRE",
        "colab_type": "code",
        "colab": {}
      },
      "source": [
        "!pip install rouge\n",
        "from rouge import FilesRouge\n",
        "\n",
        "files_rouge = FilesRouge()\n",
        "\n",
        "hyp_path = 'bpe/pred.txt' \n",
        "ref_path = 'split/en-test.txt'\n",
        "scores_indiv = files_rouge.get_scores(hyp_path, ref_path)\n",
        "scores_avg = files_rouge.get_scores(hyp_path, ref_path, avg = True)"
      ],
      "execution_count": 0,
      "outputs": []
    },
    {
      "cell_type": "code",
      "metadata": {
        "id": "BEjfBMk-sqLh",
        "colab_type": "code",
        "colab": {}
      },
      "source": [
        "for idx in range(20):\n",
        "  print(scores_indiv[:20][idx]['rouge-l']['f'])"
      ],
      "execution_count": 0,
      "outputs": []
    },
    {
      "cell_type": "code",
      "metadata": {
        "id": "uHo7hNc4vngL",
        "colab_type": "code",
        "colab": {}
      },
      "source": [
        "rouge_indiv = [0, 1, 1, 0.77, 0.50, 0, 0.14, 0.50, 0.57, 0.40, 0, 0.27, 0, 0.15, 0, 0, 0.12, 0.29, 0.29, 0.40]\n",
        "rouge = 0.27 # from scores_avg"
      ],
      "execution_count": 0,
      "outputs": []
    },
    {
      "cell_type": "code",
      "metadata": {
        "id": "Gt-oI4DzuCCt",
        "colab_type": "code",
        "colab": {}
      },
      "source": [
        "meteor_indiv = [0, 1, 1, 0.64, 0.15, 0, 0.03, 0.25, 0.55, 0.11, 0, 0.22, 0, 0.04, 0, 0, 0.04, 0.06, 0.19, 0.09]\n",
        "meteor = 0.15"
      ],
      "execution_count": 0,
      "outputs": []
    },
    {
      "cell_type": "code",
      "metadata": {
        "id": "etcsCc6o3Jy5",
        "colab_type": "code",
        "outputId": "7bb4261e-f0ae-4ac6-c601-189a08acf559",
        "colab": {
          "base_uri": "https://localhost:8080/",
          "height": 187
        }
      },
      "source": [
        "from scipy import stats\n",
        "\n",
        "print(stats.spearmanr(bleu_indiv, adequacy))\n",
        "print(stats.spearmanr(bleu_indiv, fluency))\n",
        "\n",
        "print('\\n')\n",
        "\n",
        "print(stats.spearmanr(rouge_indiv, adequacy))\n",
        "print(stats.spearmanr(rouge_indiv, fluency))\n",
        "\n",
        "print('\\n')\n",
        "\n",
        "print(stats.spearmanr(meteor_indiv, adequacy))\n",
        "print(stats.spearmanr(meteor_indiv, fluency))"
      ],
      "execution_count": 0,
      "outputs": [
        {
          "output_type": "stream",
          "text": [
            "SpearmanrResult(correlation=0.42656785213142046, pvalue=0.06070997236638958)\n",
            "SpearmanrResult(correlation=0.23999539213270613, pvalue=0.3081184349083537)\n",
            "\n",
            "\n",
            "SpearmanrResult(correlation=0.5545437093737067, pvalue=0.011164009612464271)\n",
            "SpearmanrResult(correlation=0.3230576734035238, pvalue=0.16473587826692543)\n",
            "\n",
            "\n",
            "SpearmanrResult(correlation=0.5343389780851688, pvalue=0.015222348878875979)\n",
            "SpearmanrResult(correlation=0.3994745602521892, pvalue=0.08098955833369174)\n"
          ],
          "name": "stdout"
        }
      ]
    },
    {
      "cell_type": "code",
      "metadata": {
        "id": "z0OuJSbFUt8c",
        "colab_type": "code",
        "colab": {}
      },
      "source": [
        "# Run NMT system on jp_test_sentences.txt \n",
        "\n",
        "# BPE for jpe_test_sentences.txt\n",
        "!subword-nmt apply-bpe -c 'bpe/ja_bpe' < 'jp_test_sentences.txt' > 'jp-test-sentences-bpe-out.txt' # apply to test\n",
        "!onmt_translate -model 'bpe/demo-model_step_100000.pt' -src 'jp-test-sentences-bpe-out.txt' -output 'translations-bpe.txt' -replace_unk -verbose\n",
        "!sed -r 's/(@@ )|(@@ ?$)//g' 'translations-bpe.txt' > 'translations.txt'"
      ],
      "execution_count": 0,
      "outputs": []
    }
  ]
}