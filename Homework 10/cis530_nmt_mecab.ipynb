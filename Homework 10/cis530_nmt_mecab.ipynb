{
  "nbformat": 4,
  "nbformat_minor": 0,
  "metadata": {
    "colab": {
      "name": "cis530_nmt_mecab.ipynb",
      "provenance": [],
      "collapsed_sections": [],
      "include_colab_link": true
    },
    "kernelspec": {
      "name": "python3",
      "display_name": "Python 3"
    },
    "accelerator": "GPU"
  },
  "cells": [
    {
      "cell_type": "markdown",
      "metadata": {
        "id": "view-in-github",
        "colab_type": "text"
      },
      "source": [
        "<a href=\"https://colab.research.google.com/github/spatank/CIS-530/blob/master/Homework%2010/cis530_nmt_mecab.ipynb\" target=\"_parent\"><img src=\"https://colab.research.google.com/assets/colab-badge.svg\" alt=\"Open In Colab\"/></a>"
      ]
    },
    {
      "cell_type": "code",
      "metadata": {
        "id": "0QG0aHJSl2fF",
        "colab_type": "code",
        "outputId": "3f3106b0-8ad0-4109-ffc5-9647598d477c",
        "colab": {
          "base_uri": "https://localhost:8080/",
          "height": 122
        }
      },
      "source": [
        "# Mount Google Drive\n",
        "from google.colab import drive\n",
        "drive.mount('/content/Drive', force_remount = True)\n",
        "# When you run this block, you will need to click open a link to get some "
      ],
      "execution_count": 0,
      "outputs": [
        {
          "output_type": "stream",
          "text": [
            "Go to this URL in a browser: https://accounts.google.com/o/oauth2/auth?client_id=947318989803-6bn6qk8qdgf4n4g3pfee6491hc0brc4i.apps.googleusercontent.com&redirect_uri=urn%3aietf%3awg%3aoauth%3a2.0%3aoob&response_type=code&scope=email%20https%3a%2f%2fwww.googleapis.com%2fauth%2fdocs.test%20https%3a%2f%2fwww.googleapis.com%2fauth%2fdrive%20https%3a%2f%2fwww.googleapis.com%2fauth%2fdrive.photos.readonly%20https%3a%2f%2fwww.googleapis.com%2fauth%2fpeopleapi.readonly\n",
            "\n",
            "Enter your authorization code:\n",
            "··········\n",
            "Mounted at /content/Drive\n"
          ],
          "name": "stdout"
        }
      ]
    },
    {
      "cell_type": "code",
      "metadata": {
        "id": "q54i6aVL_hqy",
        "colab_type": "code",
        "colab": {}
      },
      "source": [
        "import os\n",
        "# TODO\n",
        "os.chdir('Drive/My Drive/CIS-530/Homework 10/data')"
      ],
      "execution_count": 0,
      "outputs": []
    },
    {
      "cell_type": "code",
      "metadata": {
        "id": "fIWwbHE6hPrZ",
        "colab_type": "code",
        "colab": {}
      },
      "source": [
        "!pip install mecab-python3"
      ],
      "execution_count": 0,
      "outputs": []
    },
    {
      "cell_type": "code",
      "metadata": {
        "id": "4IazVMlIhyyG",
        "colab_type": "code",
        "colab": {}
      },
      "source": [
        "import MeCab\n",
        "\n",
        "wakati = MeCab.Tagger(\"-Owakati\")\n",
        "\n",
        "for fname in ['ja-train.txt','ja-dev.txt','ja-test.txt']:\n",
        "  with open('split/' + fname, encoding = 'utf=8') as fj_orig:\n",
        "    with open('mecab/mecab-' + fname, 'w', encoding = 'utf-8') as fj_tok: \n",
        "      for line in fj_orig:\n",
        "        tokens = wakati.parse(line)\n",
        "        fj_tok.write(tokens)"
      ],
      "execution_count": 0,
      "outputs": []
    },
    {
      "cell_type": "code",
      "metadata": {
        "id": "t0jd5AH2nOJ2",
        "colab_type": "code",
        "colab": {}
      },
      "source": [
        "# Install BPE (https://github.com/rsennrich/subword-nmt)\n",
        "# TODO\n",
        "!pip install subword-nmt"
      ],
      "execution_count": 0,
      "outputs": []
    },
    {
      "cell_type": "code",
      "metadata": {
        "id": "VYOb5XhacEyo",
        "colab_type": "code",
        "colab": {}
      },
      "source": [
        "# Install OpenNMT (https://github.com/OpenNMT/OpenNMT-py)\n",
        "# TODO\n",
        "!pip install OpenNMT-py"
      ],
      "execution_count": 0,
      "outputs": []
    },
    {
      "cell_type": "code",
      "metadata": {
        "id": "2bmn3TH_py4E",
        "colab_type": "code",
        "colab": {}
      },
      "source": [
        "# Apply BPE, following instructions from the Github repo\n",
        "# this takes around 15 minutes\n",
        "\n",
        "# TODO\n",
        "# codes_file is where the BPE information is stored. Name it as you like. \n",
        "\n",
        "# Learn and apply BPE for English data\n",
        "\n",
        "!subword-nmt learn-bpe -s 10000 < 'mecab/mecab-ja-train.txt' > 'mecab/mecab-ja-bpe' # learn from train\n",
        "!subword-nmt apply-bpe -c 'mecab/mecab-ja-bpe' < 'mecab/mecab-ja-train.txt' > 'mecab/mecab-ja-train-bpe-out.txt' # apply to train\n",
        "!subword-nmt apply-bpe -c 'mecab/mecab-ja-bpe' < 'mecab/mecab-ja-dev.txt' > 'mecab/mecab-ja-dev-bpe-out.txt' # apply to dev\n",
        "!subword-nmt apply-bpe -c 'mecab/mecab-ja-bpe' < 'mecab/mecab-ja-test.txt' > 'mecab/mecab-ja-test-bpe-out.txt' # apply to test"
      ],
      "execution_count": 0,
      "outputs": []
    },
    {
      "cell_type": "code",
      "metadata": {
        "id": "UAmLf8Gb4lO8",
        "colab_type": "code",
        "colab": {}
      },
      "source": [
        "# Run OpenNMT, following instructions from the Github repo\n",
        "# this takes 1-2 hours\n",
        "\n",
        "# TODO\n",
        "# Name the prefixes for data and checkpoints as you like\n",
        "!onmt_preprocess -train_src 'mecab/mecab-ja-train-bpe-out.txt' -train_tgt 'bpe/en-train-bpe-out.txt' -valid_src 'mecab/mecab-ja-dev-bpe-out.txt' -valid_tgt 'bpe/en-dev-bpe-out.txt' -save_data 'mecab/demo' -overwrite"
      ],
      "execution_count": 0,
      "outputs": []
    },
    {
      "cell_type": "code",
      "metadata": {
        "id": "h3PvsZBuYK4T",
        "colab_type": "code",
        "colab": {}
      },
      "source": [
        "!onmt_train -gpu_ranks 0 -data 'mecab/demo' -save_model demo-model"
      ],
      "execution_count": 0,
      "outputs": []
    },
    {
      "cell_type": "code",
      "metadata": {
        "id": "TJzFwBhvWHs1",
        "colab_type": "code",
        "colab": {}
      },
      "source": [
        "!onmt_translate -model 'mecab/demo-model_step_100000.pt' -src 'mecab/mecab-ja-test.txt' -output 'mecab/pred-mecab.txt' -replace_unk -verbose"
      ],
      "execution_count": 0,
      "outputs": []
    },
    {
      "cell_type": "code",
      "metadata": {
        "id": "NZmxX9x6tmlv",
        "colab_type": "code",
        "colab": {}
      },
      "source": [
        "# reverse BPE\n",
        "!sed -r 's/(@@ )|(@@ ?$)//g' 'mecab/pred-mecab.txt' > 'mecab/pred.txt'"
      ],
      "execution_count": 0,
      "outputs": []
    },
    {
      "cell_type": "code",
      "metadata": {
        "id": "3yn8f-FQG05m",
        "colab_type": "code",
        "colab": {}
      },
      "source": [
        "# Evaluate translations using BLEU\n",
        "!wget https://raw.githubusercontent.com/moses-smt/mosesdecoder/master/scripts/generic/multi-bleu.perl\n",
        "# TODO\n",
        "!perl multi-bleu.perl 'split/en-test.txt' < 'mecab/pred.txt'"
      ],
      "execution_count": 0,
      "outputs": []
    },
    {
      "cell_type": "code",
      "metadata": {
        "id": "lctwdJ1ctKXj",
        "colab_type": "code",
        "colab": {}
      },
      "source": [
        "import subprocess\n",
        "\n",
        "with open('split/en-test.txt', encoding = 'utf-8') as ref_file:\n",
        "  for idx, line in enumerate(ref_file):\n",
        "    if idx < 20:\n",
        "      line_file = 'ref_line_%d.txt' % idx\n",
        "      with open('mecab/lines/ref_lines/' + line_file, 'w', encoding = 'utf-8') as lf:\n",
        "        lf.write(line)\n",
        "\n",
        "with open('mecab/pred.txt', encoding = 'utf-8') as pred_file:\n",
        "  for idx, line in enumerate(pred_file):\n",
        "    if idx < 20:\n",
        "      line_file = 'pred_line_%d.txt' % idx\n",
        "      with open('mecab/lines/pred_lines/' + line_file, 'w', encoding = 'utf-8') as lf:\n",
        "        lf.write(line)\n",
        "\n",
        "for idx in range(20):\n",
        "  ref_file = 'mecab/lines/ref_lines/ref_line_%d.txt' % idx\n",
        "  pred_file = 'mecab/lines/pred_lines/pred_line_%d.txt' % idx\n",
        "  with open(ref_file, encoding = 'utf-8') as ref:\n",
        "    for line in ref:\n",
        "      print(idx, line)\n",
        "  with open(pred_file, encoding = 'utf-8') as pred:\n",
        "    for line in pred:\n",
        "      print(idx, line)\n",
        "  cp = subprocess.run(\"perl multi-bleu.perl '%s' < '%s'\" % (ref_file, pred_file), universal_newlines = True, stdout = subprocess.PIPE, stderr = subprocess.PIPE, shell = True)\n",
        "  print(cp.stdout)"
      ],
      "execution_count": 0,
      "outputs": []
    },
    {
      "cell_type": "code",
      "metadata": {
        "id": "WO87_kcftqKT",
        "colab_type": "code",
        "colab": {}
      },
      "source": [
        "bleu_indiv = [0, 100, 0, 43.47, 0, 0, 0, 0, 0, 0, 0, 0, 0, 0, 0, 0, 0, 0, 0, 0]\n",
        "bleu = 5.84\n",
        "# Adequacy: how much of the meaning in the gold standard is present in the translation?\n",
        "adequacy = [0, 3, 2, 1, 1, 2, 0, 3, 2, 3, 0, 0, 1, 1, 1, 0, 1, 3, 1, 0]\n",
        "# Fluency: to what extent is the translation error free, grammatically as well as spelling wise?\n",
        "fluency = [3, 3, 3, 0, 1, 2, 2, 3, 3, 3, 2, 1, 3, 2, 3, 1, 3, 3, 3, 1]"
      ],
      "execution_count": 0,
      "outputs": []
    },
    {
      "cell_type": "code",
      "metadata": {
        "id": "sL5z8LxItsgh",
        "colab_type": "code",
        "colab": {}
      },
      "source": [
        "!pip install rouge\n",
        "from rouge import FilesRouge\n",
        "\n",
        "files_rouge = FilesRouge()\n",
        "\n",
        "hyp_path = 'mecab/pred.txt' \n",
        "ref_path = 'split/en-test.txt'\n",
        "scores_indiv = files_rouge.get_scores(hyp_path, ref_path)\n",
        "scores_avg = files_rouge.get_scores(hyp_path, ref_path, avg = True)"
      ],
      "execution_count": 0,
      "outputs": []
    },
    {
      "cell_type": "code",
      "metadata": {
        "id": "fwpAgguAtufR",
        "colab_type": "code",
        "colab": {}
      },
      "source": [
        "for idx in range(20):\n",
        "  print(scores_indiv[:20][idx]['rouge-l']['f'])"
      ],
      "execution_count": 0,
      "outputs": []
    },
    {
      "cell_type": "code",
      "metadata": {
        "id": "BxHN0kFptu5d",
        "colab_type": "code",
        "colab": {}
      },
      "source": [
        "rouge_indiv = [0, 1, 0.66, 0.77, 0.43, 0.22, 0.21, 0.50, 0.35, 0.40, 0, 0.13, 0, 0.46, 0, 0, 0.14, 0.29, 0.11, 0.40]\n",
        "rouge = 0.27 # from scores_avg"
      ],
      "execution_count": 0,
      "outputs": []
    },
    {
      "cell_type": "code",
      "metadata": {
        "id": "Vsb0HMEH14N6",
        "colab_type": "code",
        "colab": {}
      },
      "source": [
        "meteor_indiv = [0, 1, 0.17, 0.64, 0.11, 0.08, 0.08, 0.25, 0.34, 0.11, 0, 0.07, 0, 0.13, 0, 0, 0.04, 0.06, 0.03, 0.09]\n",
        "meteor = 0.15"
      ],
      "execution_count": 0,
      "outputs": []
    },
    {
      "cell_type": "code",
      "metadata": {
        "id": "OG2OrNav2Ue5",
        "colab_type": "code",
        "outputId": "c2172163-3aae-413a-b538-85cf21fb40c6",
        "colab": {
          "base_uri": "https://localhost:8080/",
          "height": 187
        }
      },
      "source": [
        "from scipy import stats\n",
        "\n",
        "print(stats.spearmanr(bleu_indiv, adequacy))\n",
        "print(stats.spearmanr(bleu_indiv, fluency))\n",
        "\n",
        "print('\\n')\n",
        "\n",
        "print(stats.spearmanr(rouge_indiv, adequacy))\n",
        "print(stats.spearmanr(rouge_indiv, fluency))\n",
        "\n",
        "print('\\n')\n",
        "\n",
        "print(stats.spearmanr(meteor_indiv, adequacy))\n",
        "print(stats.spearmanr(meteor_indiv, fluency))"
      ],
      "execution_count": 0,
      "outputs": [
        {
          "output_type": "stream",
          "text": [
            "SpearmanrResult(correlation=0.2383458646616541, pvalue=0.3115560243964671)\n",
            "SpearmanrResult(correlation=-0.13709815216348134, pvalue=0.5643611664547012)\n",
            "\n",
            "\n",
            "SpearmanrResult(correlation=0.5804294924639211, pvalue=0.007292772743603303)\n",
            "SpearmanrResult(correlation=-0.08162468972950063, pvalue=0.7322727962473675)\n",
            "\n",
            "\n",
            "SpearmanrResult(correlation=0.5553712690247996, pvalue=0.011018695268952019)\n",
            "SpearmanrResult(correlation=-0.07495591574420851, pvalue=0.7534671680911954)\n"
          ],
          "name": "stdout"
        }
      ]
    },
    {
      "cell_type": "code",
      "metadata": {
        "id": "rSumVe8v41_q",
        "colab_type": "code",
        "colab": {}
      },
      "source": [
        "# Run NMT system on jp_test_sentences.txt \n",
        "\n",
        "wakati = MeCab.Tagger(\"-Owakati\")\n",
        "\n",
        "with open('jp_test_sentences.txt', encoding = 'utf-8') as test_file:\n",
        "  with open('jp-test-sentences-mecab.txt', 'w', encoding = 'utf-8') as mecab_test_file:\n",
        "    for line in test_file:\n",
        "      tokens = wakati.parse(line)\n",
        "      mecab_test_file.write(tokens)\n",
        "\n",
        "# BPE for jp-test-sentences-mecab.txt\n",
        "!subword-nmt apply-bpe -c 'mecab/mecab-ja_bpe' < 'jp-test-sentences-mecab.txt' > 'jp-test-sentences-mecab-bpe-out.txt' # apply to test\n",
        "!onmt_translate -model 'mecab/demo-model_step_100000.pt' -src 'jp-test-sentences-mecab-bpe-out.txt' -output 'translations-mecab-bpe.txt' -replace_unk -verbose\n",
        "!sed -r 's/(@@ )|(@@ ?$)//g' 'translations-mecab-bpe.txt' > 'translations.txt'"
      ],
      "execution_count": 0,
      "outputs": []
    }
  ]
}