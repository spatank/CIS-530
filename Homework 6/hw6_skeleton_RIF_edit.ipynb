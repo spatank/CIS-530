{
  "nbformat": 4,
  "nbformat_minor": 0,
  "metadata": {
    "accelerator": "GPU",
    "colab": {
      "name": "hw6_skeleton_RIF_edit.ipynb",
      "provenance": [],
      "collapsed_sections": [],
      "toc_visible": true,
      "include_colab_link": true
    },
    "kernelspec": {
      "display_name": "Python 3",
      "language": "python",
      "name": "python3"
    },
    "language_info": {
      "codemirror_mode": {
        "name": "ipython",
        "version": 3
      },
      "file_extension": ".py",
      "mimetype": "text/x-python",
      "name": "python",
      "nbconvert_exporter": "python",
      "pygments_lexer": "ipython3",
      "version": "3.6.3"
    }
  },
  "cells": [
    {
      "cell_type": "markdown",
      "metadata": {
        "id": "view-in-github",
        "colab_type": "text"
      },
      "source": [
        "<a href=\"https://colab.research.google.com/github/spatank/CIS-530/blob/master/Homework%206/hw6_skeleton_RIF_edit.ipynb\" target=\"_parent\"><img src=\"https://colab.research.google.com/assets/colab-badge.svg\" alt=\"Open In Colab\"/></a>"
      ]
    },
    {
      "cell_type": "markdown",
      "metadata": {
        "id": "f3g9-BaUNri6",
        "colab_type": "text"
      },
      "source": [
        "# Download and unzip files"
      ]
    },
    {
      "cell_type": "code",
      "metadata": {
        "colab_type": "code",
        "id": "CNS4OZXxMZ-A",
        "colab": {}
      },
      "source": [
        "#Download and unzip files\n",
        "!pip3 install scikit-learn\n",
        "!wget http://computational-linguistics-class.org/homework/nn-lms/cities_test.txt\n",
        "!wget http://computational-linguistics-class.org/homework/nn-lms/cities_val.zip\n",
        "!wget http://computational-linguistics-class.org/homework/nn-lms/cities_train.zip\n",
        "!sudo apt-get install unzip\n",
        "!unzip cities_val.zip \n",
        "!unzip cities_train.zip \n",
        "from os.path import exists\n",
        "from wheel.pep425tags import get_abbr_impl, get_impl_ver, get_abi_tag\n",
        "platform = '{}{}-{}'.format(get_abbr_impl(), get_impl_ver(), get_abi_tag())\n",
        "cuda_output = !ldconfig -p|grep cudart.so|sed -e 's/.*\\.\\([0-9]*\\)\\.\\([0-9]*\\)$/cu\\1\\2/'\n",
        "accelerator = cuda_output[0] if exists('/dev/nvidia0') else 'cpu'\n",
        "!pip3 install https://download.pytorch.org/whl/cu100/torch-1.0.1-cp36-cp36m-linux_x86_64.whl\n",
        "!pip3 install torch torchvision\n",
        "  \n",
        "import torch\n",
        "device =  torch.device(\"cuda:0\" if torch.cuda.is_available() else \"cpu\")"
      ],
      "execution_count": 0,
      "outputs": []
    },
    {
      "cell_type": "code",
      "metadata": {
        "id": "Q32qfGbtPOIZ",
        "colab_type": "code",
        "colab": {
          "base_uri": "https://localhost:8080/",
          "height": 51
        },
        "outputId": "dcea361d-efb3-4e49-bc17-caba7144f801"
      },
      "source": [
        "print(print(torch.__version__))"
      ],
      "execution_count": 2,
      "outputs": [
        {
          "output_type": "stream",
          "text": [
            "1.0.1\n",
            "None\n"
          ],
          "name": "stdout"
        }
      ]
    },
    {
      "cell_type": "markdown",
      "metadata": {
        "id": "dUD8EE5fNvhR",
        "colab_type": "text"
      },
      "source": [
        "# Verify file download"
      ]
    },
    {
      "cell_type": "code",
      "metadata": {
        "colab_type": "code",
        "id": "qIJxbqMDNTTl",
        "colab": {}
      },
      "source": [
        "#Verfiy file download\n",
        "!head train/af.txt\n",
        "!printf \"\\n\"\n",
        "!head val/af.txt\n",
        "!printf \"\\n\"\n",
        "!head cities_test.txt\n",
        "!printf \"\\n\"\n",
        "#Verify CUDA acceleration should print cuda:0\n",
        "print(device)"
      ],
      "execution_count": 0,
      "outputs": []
    },
    {
      "cell_type": "markdown",
      "metadata": {
        "id": "tTzoM1VUObhb",
        "colab_type": "text"
      },
      "source": [
        "# Directory Paths"
      ]
    },
    {
      "cell_type": "code",
      "metadata": {
        "id": "h12cVa20OYdL",
        "colab_type": "code",
        "colab": {}
      },
      "source": [
        "root = '/content/drive/Shared drives/cis530_hw6/'"
      ],
      "execution_count": 0,
      "outputs": []
    },
    {
      "cell_type": "markdown",
      "metadata": {
        "id": "TgiZ0xd4NybT",
        "colab_type": "text"
      },
      "source": [
        "# Mount google drive"
      ]
    },
    {
      "cell_type": "code",
      "metadata": {
        "colab_type": "code",
        "id": "1eKT4SoNP3lH",
        "colab": {
          "base_uri": "https://localhost:8080/",
          "height": 85
        },
        "outputId": "e65da530-cf0e-420e-b201-ed568d1462b1"
      },
      "source": [
        "# Mount your google drive. \n",
        "# Use this to save your PyTorch model for submission\n",
        "from google.colab import drive\n",
        "drive.mount('/content/gdrive')\n",
        "%cd '/content/gdrive/Shared drives/cis530_hw6/'\n",
        "!ls\n",
        "#!mkdir /content/gdrive/My\\ Drive/cis530_hw6\n",
        "#Test drive access. \n",
        "#You should have a test.txt under a new folder cis530_hw6 in your Google drive\n",
        "with open('/content/gdrive/Shared drives/cis530_hw6/test.txt', 'w') as f:\n",
        "  f.write('This is a test!')"
      ],
      "execution_count": 7,
      "outputs": [
        {
          "output_type": "stream",
          "text": [
            "Drive already mounted at /content/gdrive; to attempt to forcibly remount, call drive.mount(\"/content/gdrive\", force_remount=True).\n",
            "/content/gdrive/Shared drives/cis530_hw6\n",
            "hw6_skeleton.ipynb\t     hw6_SP_edit.ipynb\ttest.txt       train\n",
            "hw6_skeleton_RIF_edit.ipynb  skeleton\t\ttext_file.txt  val\n"
          ],
          "name": "stdout"
        }
      ]
    },
    {
      "cell_type": "markdown",
      "metadata": {
        "id": "3rOYmPqzRffT",
        "colab_type": "text"
      },
      "source": [
        "# main_classify.py"
      ]
    },
    {
      "cell_type": "code",
      "metadata": {
        "colab_type": "code",
        "id": "kwB5RzvfOGr_",
        "colab": {}
      },
      "source": [
        "#main_classify.py\n",
        "import codecs\n",
        "import math\n",
        "import random\n",
        "import string\n",
        "import time\n",
        "import numpy as np\n",
        "import torch\n",
        "from sklearn.metrics import accuracy_score\n",
        "\n",
        "'''\n",
        "Don't change these constants for the classification task.\n",
        "You may use different copies for the sentence generation model.\n",
        "'''\n",
        "languages = [\"af\", \"cn\", \"de\", \"fi\", \"fr\", \"in\", \"ir\", \"pk\", \"za\"]\n",
        "all_letters = string.ascii_letters + \" .,;'\"\n",
        "\n",
        "'''\n",
        "Returns the words of the language specified by reading it from the data folder\n",
        "Returns the validation data if train is false and the train data otherwise.\n",
        "Return: A nx1 array containing the words of the specified language\n",
        "'''\n",
        "def getWords(baseDir, lang, train = True):\n",
        "    pass\n",
        "\n",
        "'''\n",
        "Returns a label corresponding to the language\n",
        "For example it returns an array of 0s for af\n",
        "Return: A nx1 array as integers containing index of the specified language in the \"languages\" array\n",
        "'''\n",
        "def getLabels(lang, length):\n",
        "    pass\n",
        "\n",
        "'''\n",
        "Returns all the laguages and labels after reading it from the file\n",
        "Returns the validation data if train is false and the train data otherwise.\n",
        "You may assume that the files exist in baseDir and have the same names.\n",
        "Return: X, y where X is nx1 and y is nx1\n",
        "'''\n",
        "def readData(baseDir, train=True):\n",
        "    pass\n",
        "\n",
        "'''\n",
        "Convert a line/word to a pytorch tensor of numbers\n",
        "Refer the tutorial in the spec\n",
        "Return: A tensor corresponding to the given line\n",
        "'''\n",
        "def line_to_tensor(line):\n",
        "    pass\n",
        "\n",
        "'''\n",
        "Returns the category/class of the output from the neural network\n",
        "Input: Output of the neural networks (class probabilities)\n",
        "Return: A tuple with (language, language_index)\n",
        "        language: \"af\", \"cn\", etc.\n",
        "        language_index: 0, 1, etc.\n",
        "'''\n",
        "def category_from_output(output):\n",
        "    pass\n",
        "\n",
        "'''\n",
        "Get a random input output pair to be used for training \n",
        "Refer the tutorial in the spec\n",
        "'''\n",
        "def random_training_pair(X, y):\n",
        "    pass\n",
        "\n",
        "'''\n",
        "Input: trained model, a list of words, a list of class labels as integers\n",
        "Output: a list of class labels as integers\n",
        "'''\n",
        "def predict(model, X, y):\n",
        "    pass\n",
        "\n",
        "'''\n",
        "Input: trained model, a list of words, a list of class labels as integers\n",
        "Output: The accuracy of the given model on the given input X and target y\n",
        "'''\n",
        "def calculateAccuracy(model, X, y):\n",
        "    pass\n",
        "\n",
        "'''\n",
        "Train the model for one epoch/one training word.\n",
        "Ensure that it runs within 3 seconds.\n",
        "Input: X and y are lists of words as strings and classes as integers respectively\n",
        "Returns: You may return anything\n",
        "'''\n",
        "def trainOneEpoch(model, criterion, optimizer, X, y):\n",
        "    pass\n",
        "\n",
        "'''\n",
        "Use this to train and save your classification model. \n",
        "Save your model with the filename \"model_classify\"\n",
        "'''\n",
        "def run():\n",
        "    pass\n"
      ],
      "execution_count": 0,
      "outputs": []
    },
    {
      "cell_type": "markdown",
      "metadata": {
        "id": "jfg87twhRlOF",
        "colab_type": "text"
      },
      "source": [
        "# models.py"
      ]
    },
    {
      "cell_type": "code",
      "metadata": {
        "colab_type": "code",
        "id": "NbOusBLKPsrx",
        "colab": {}
      },
      "source": [
        "#models.py\n",
        "import torch.nn as nn\n",
        "from torch.autograd import Variable\n",
        "import torch\n",
        "import torch.nn.functional as F\n",
        "\n",
        "'''\n",
        "Please add default values for all the parameters of __init__.\n",
        "'''\n",
        "class CharRNNClassify(nn.Module):\n",
        "    def __init__(self, input_size, hidden_size, output_size):\n",
        "        pass\n",
        "\n",
        "    def forward(self, input, hidden=None):\n",
        "        pass\n",
        "\n",
        "    def init_hidden(self):\n",
        "        pass"
      ],
      "execution_count": 0,
      "outputs": []
    }
  ]
}