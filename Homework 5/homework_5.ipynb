{
  "nbformat": 4,
  "nbformat_minor": 0,
  "metadata": {
    "kernelspec": {
      "display_name": "Python (myenv)",
      "language": "python",
      "name": "myenv"
    },
    "language_info": {
      "codemirror_mode": {
        "name": "ipython",
        "version": 3
      },
      "file_extension": ".py",
      "mimetype": "text/x-python",
      "name": "python",
      "nbconvert_exporter": "python",
      "pygments_lexer": "ipython3",
      "version": "3.7.6"
    },
    "colab": {
      "name": "homework_5.ipynb",
      "provenance": [],
      "include_colab_link": true
    }
  },
  "cells": [
    {
      "cell_type": "markdown",
      "metadata": {
        "id": "view-in-github",
        "colab_type": "text"
      },
      "source": [
        "<a href=\"https://colab.research.google.com/github/spatank/CIS-530/blob/master/Homework%205/homework_5.ipynb\" target=\"_parent\"><img src=\"https://colab.research.google.com/assets/colab-badge.svg\" alt=\"Open In Colab\"/></a>"
      ]
    },
    {
      "cell_type": "code",
      "metadata": {
        "id": "WS80Ll4dvIcX",
        "colab_type": "code",
        "outputId": "2a5cb18d-8d04-42ae-8c3e-3d333c4f470e",
        "colab": {
          "base_uri": "https://localhost:8080/",
          "height": 34
        }
      },
      "source": [
        "pip install pymagnitude"
      ],
      "execution_count": 39,
      "outputs": [
        {
          "output_type": "stream",
          "text": [
            "Requirement already satisfied: pymagnitude in /usr/local/lib/python3.6/dist-packages (0.1.120)\n"
          ],
          "name": "stdout"
        }
      ]
    },
    {
      "cell_type": "code",
      "metadata": {
        "id": "w8WGugLYvUjM",
        "colab_type": "code",
        "colab": {}
      },
      "source": [
        "from pymagnitude import *\n",
        "from itertools import combinations\n",
        "from prettytable import PrettyTable\n",
        "from sklearn.cluster import KMeans\n",
        "import random\n",
        "from sklearn.cluster import KMeans"
      ],
      "execution_count": 0,
      "outputs": []
    },
    {
      "cell_type": "code",
      "metadata": {
        "id": "lH6_3yAPlWgR",
        "colab_type": "code",
        "colab": {
          "base_uri": "https://localhost:8080/",
          "height": 34
        },
        "outputId": "b0881a11-059c-4876-d762-fb8a04eaf5cd"
      },
      "source": [
        "from google.colab import drive\n",
        "drive.mount('/content/drive')\n",
        "\n",
        "# to view contents, run following line\n",
        "# !ls drive/My\\ Drive/CIS-530/Homework\\ 5/Data"
      ],
      "execution_count": 41,
      "outputs": [
        {
          "output_type": "stream",
          "text": [
            "Drive already mounted at /content/drive; to attempt to forcibly remount, call drive.mount(\"/content/drive\", force_remount=True).\n"
          ],
          "name": "stdout"
        }
      ]
    },
    {
      "cell_type": "code",
      "metadata": {
        "id": "rvKJrWiuPuZE",
        "colab_type": "code",
        "colab": {}
      },
      "source": [
        "def load_input_file(file_path):\n",
        "    \"\"\"\n",
        "    Loads the input file to two dictionaries\n",
        "    :param file_path: path to an input file\n",
        "    :return: 2 dictionaries:\n",
        "    1. Dictionary, where key is a target word and value is a list of paraphrases\n",
        "    2. Dictionary, where key is a target word and value is a number of clusters\n",
        "    \"\"\"\n",
        "    word_to_paraphrases_dict = {}\n",
        "    word_to_k_dict = {}\n",
        "\n",
        "    with open(file_path, 'r') as fin:\n",
        "        for line in fin:\n",
        "            target_word, k, paraphrases = line.split(' :: ')\n",
        "            word_to_k_dict[target_word] = int(k)\n",
        "            word_to_paraphrases_dict[target_word] = paraphrases.split()\n",
        "\n",
        "    return word_to_paraphrases_dict, word_to_k_dict\n",
        "\n",
        "\n",
        "def load_output_file(file_path):\n",
        "    \"\"\"\n",
        "    :param file_path: path to an output file\n",
        "    :return: A dictionary, where key is a target word and value is a list of list of paraphrases\n",
        "    \"\"\"\n",
        "    clusterings = {}\n",
        "\n",
        "    with open(file_path, 'r') as fin:\n",
        "        for line in fin:\n",
        "            target_word, _, paraphrases_in_cluster = line.strip().split(' :: ')\n",
        "            paraphrases_list = paraphrases_in_cluster.strip().split()\n",
        "            if target_word not in clusterings:\n",
        "                clusterings[target_word] = []\n",
        "            clusterings[target_word].append(paraphrases_list)\n",
        "\n",
        "    return clusterings\n",
        "\n",
        "\n",
        "def write_to_output_file(file_path, clusterings):\n",
        "    \"\"\"\n",
        "    Writes the result of clusterings into an output file\n",
        "    :param file_path: path to an output file\n",
        "    :param clusterings:  A dictionary, where key is a target word and value is a list of list of paraphrases\n",
        "    :return: N/A\n",
        "    \"\"\"\n",
        "    with open(file_path, 'w') as fout:\n",
        "        for target_word, clustering in clusterings.items():\n",
        "            for i, cluster in enumerate(clustering):\n",
        "                fout.write(f'{target_word} :: {i + 1} :: {\" \".join(cluster)}\\n')\n",
        "        fout.close()\n",
        "\n",
        "\n",
        "def get_paired_f_score(gold_clustering, predicted_clustering):\n",
        "    \"\"\"\n",
        "    :param gold_clustering: gold list of list of paraphrases\n",
        "    :param predicted_clustering: predicted list of list of paraphrases\n",
        "    :return: Paired F-Score\n",
        "    \"\"\"\n",
        "    gold_pairs = set()\n",
        "    for gold_cluster in gold_clustering:\n",
        "        for pair in combinations(gold_cluster, 2):\n",
        "            gold_pairs.add(tuple(sorted(pair)))\n",
        "\n",
        "    predicted_pairs = set()\n",
        "    for predicted_cluster in predicted_clustering:\n",
        "        for pair in combinations(predicted_cluster, 2):\n",
        "            predicted_pairs.add(tuple(sorted(pair)))\n",
        "\n",
        "    overlapping_pairs = gold_pairs & predicted_pairs\n",
        "\n",
        "    precision = 1. if len(predicted_pairs) == 0 else float(len(overlapping_pairs)) / len(predicted_pairs)\n",
        "    recall = 1. if len(gold_pairs) == 0 else float(len(overlapping_pairs)) / len(gold_pairs)\n",
        "    paired_f_score = 0. if precision + recall == 0 else 2 * precision * recall / (precision + recall)\n",
        "\n",
        "    return paired_f_score\n",
        "\n",
        "\n",
        "def evaluate_clusterings(gold_clusterings, predicted_clusterings):\n",
        "    \"\"\"\n",
        "    Displays evaluation scores between gold and predicted clusterings\n",
        "    :param gold_clusterings: dictionary where key is a target word and value is a list of list of paraphrases\n",
        "    :param predicted_clusterings: dictionary where key is a target word and value is a list of list of paraphrases\n",
        "    :return: N/A\n",
        "    \"\"\"\n",
        "    target_words = set(gold_clusterings.keys()) & set(predicted_clusterings.keys())\n",
        "\n",
        "    if len(target_words) == 0:\n",
        "        print('No overlapping target words in ground-truth and predicted files')\n",
        "        return None\n",
        "\n",
        "    paired_f_scores = np.zeros((len(target_words)))\n",
        "    ks = np.zeros((len(target_words)))\n",
        "\n",
        "    table = PrettyTable(['Target', 'k', 'Paired F-Score'])\n",
        "    for i, target_word in enumerate(target_words):\n",
        "        paired_f_score = get_paired_f_score(gold_clusterings[target_word], predicted_clusterings[target_word])\n",
        "        k = len(gold_clusterings[target_word])\n",
        "        paired_f_scores[i] = paired_f_score\n",
        "        ks[i] = k\n",
        "        table.add_row([target_word, k, f'{paired_f_score:0.4f}'])\n",
        "\n",
        "    average_f_score = np.average(paired_f_scores, weights=ks)\n",
        "    print(table)\n",
        "    print(f'=> Average Paired F-Score:  {average_f_score:.4f}')\n"
      ],
      "execution_count": 0,
      "outputs": []
    },
    {
      "cell_type": "code",
      "metadata": {
        "id": "jO8PtCMkzP73",
        "colab_type": "code",
        "colab": {}
      },
      "source": [
        "random.seed(123)\n",
        "\n",
        "# TASK 3.1\n",
        "def cluster_random(word_to_paraphrases_dict, word_to_k_dict):\n",
        "    \"\"\"\n",
        "    Clusters paraphrases randomly\n",
        "    :param word_to_paraphrases_dict: dictionary, where key is a target word and value is a list of paraphrases\n",
        "    :param word_to_k_dict: dictionary, where key is a target word and value is a number of clusters\n",
        "    :return: dictionary, where key is a target word and value is a list of list of paraphrases,\n",
        "    where each list corresponds to a cluster\n",
        "    \"\"\"\n",
        "    clusterings = {}\n",
        "\n",
        "    for target_word in word_to_paraphrases_dict.keys():\n",
        "        paraphrase_list = word_to_paraphrases_dict[target_word]\n",
        "        clusters = []\n",
        "        k = word_to_k_dict[target_word] # number of clusters for target word\n",
        "        chosen_paraphrases = set() # keep track of any paraphrases that may not be randomly chosen\n",
        "        for cluster in range(k): \n",
        "          # each word must have a cluster, each cluster must have a word\n",
        "          cluster_list = random.choices(paraphrase_list, k = int(np.round(len(paraphrase_list)/k)))\n",
        "          chosen_paraphrases.update(cluster_list)\n",
        "          clusters.append(cluster_list)\n",
        "        for paraphrase in paraphrase_list:\n",
        "          if paraphrase not in chosen_paraphrases:\n",
        "            # choose a random cluster list and append unassigned word to it\n",
        "            random.choice(clusters).append(paraphrase) \n",
        "        clusterings[target_word] = clusters\n",
        "\n",
        "    return clusterings"
      ],
      "execution_count": 0,
      "outputs": []
    },
    {
      "cell_type": "code",
      "metadata": {
        "id": "4QcL2uySlmGU",
        "colab_type": "code",
        "colab": {
          "base_uri": "https://localhost:8080/",
          "height": 782
        },
        "outputId": "2fa53c51-d93f-426c-d2d8-d8df64f3bed3"
      },
      "source": [
        "input_filepath = 'drive/My Drive/CIS-530/Homework 5/Data/data/dev_input.txt'\n",
        "output_filepath = 'drive/My Drive/CIS-530/Homework 5/Data/data/dev_output.txt'\n",
        "word_to_paraphrases_dict, word_to_k_dict = load_input_file(input_filepath)\n",
        "gold_clusterings = load_output_file(output_filepath)\n",
        "predicted_clusterings = cluster_random(word_to_paraphrases_dict, word_to_k_dict)\n",
        "evaluate_clusterings(gold_clusterings, predicted_clusterings)"
      ],
      "execution_count": 44,
      "outputs": [
        {
          "output_type": "stream",
          "text": [
            "+----------------+----+----------------+\n",
            "|     Target     | k  | Paired F-Score |\n",
            "+----------------+----+----------------+\n",
            "|     wash.v     | 13 |     0.1697     |\n",
            "|    watch.v     | 5  |     0.2393     |\n",
            "|    expect.v    | 6  |     0.2927     |\n",
            "|    paper.n     | 7  |     0.3158     |\n",
            "|     miss.v     | 8  |     0.2316     |\n",
            "|     eat.v      | 6  |     0.2922     |\n",
            "|  atmosphere.n  | 6  |     0.2500     |\n",
            "|     note.v     | 3  |     0.5957     |\n",
            "|     use.v      | 6  |     0.3747     |\n",
            "|   judgment.n   | 7  |     0.1887     |\n",
            "|   express.v    | 7  |     0.2300     |\n",
            "|   operate.v    | 7  |     0.2544     |\n",
            "|    begin.v     | 8  |     0.2132     |\n",
            "|   produce.v    | 7  |     0.2305     |\n",
            "|    smell.v     | 4  |     0.5169     |\n",
            "|     mean.v     | 6  |     0.2431     |\n",
            "|   interest.n   | 5  |     0.2340     |\n",
            "|    party.n     | 5  |     0.2421     |\n",
            "|   suspend.v    | 6  |     0.2034     |\n",
            "|    source.n    | 9  |     0.1728     |\n",
            "|  difference.n  | 5  |     0.3724     |\n",
            "|     bank.n     | 9  |     0.2326     |\n",
            "|     plan.n     | 3  |     0.4989     |\n",
            "|    simple.a    | 5  |     0.1333     |\n",
            "|     hear.v     | 5  |     0.2740     |\n",
            "| performance.n  | 5  |     0.3240     |\n",
            "|     play.v     | 34 |     0.0543     |\n",
            "|  different.a   | 1  |     1.0000     |\n",
            "|    write.v     | 9  |     0.2313     |\n",
            "|     talk.v     | 6  |     0.3318     |\n",
            "| organization.n | 7  |     0.2191     |\n",
            "|    degree.n    | 7  |     0.2956     |\n",
            "|   provide.v    | 7  |     0.3317     |\n",
            "|    climb.v     | 6  |     0.2069     |\n",
            "|   shelter.n    | 5  |     0.3463     |\n",
            "|   receive.v    | 13 |     0.0603     |\n",
            "|     rule.v     | 7  |     0.1839     |\n",
            "|     win.v      | 4  |     0.2885     |\n",
            "|    treat.v     | 8  |     0.2271     |\n",
            "|    image.n     | 9  |     0.1646     |\n",
            "+----------------+----+----------------+\n",
            "=> Average Paired F-Score:  0.2261\n"
          ],
          "name": "stdout"
        }
      ]
    },
    {
      "cell_type": "code",
      "metadata": {
        "id": "uZ81Z6GzxzhG",
        "colab_type": "code",
        "colab": {}
      },
      "source": [
        "# word_to_paraphrases_dict, word_to_k_dict = load_input_file('drive/My Drive/CIS-530/Homework 5/Data/data/test_input.txt')\n",
        "# predicted_clusterings = cluster_random(word_to_paraphrases_dict, word_to_k_dict)\n",
        "# write_to_output_file('drive/My Drive/CIS-530/Homework 5/test_output_random.txt', predicted_clusterings)"
      ],
      "execution_count": 0,
      "outputs": []
    },
    {
      "cell_type": "code",
      "metadata": {
        "id": "a_C0noixINDU",
        "colab_type": "code",
        "colab": {}
      },
      "source": [
        "def create_PPMI_matrix(term_context_matrix):\n",
        "  '''Given a term context matrix, output a PPMI matrix.\n",
        "  See section 15.1 in the textbook.\n",
        "\n",
        "  Hint: Use numpy matrix and vector operations to speed up implementation.\n",
        "  \n",
        "  Input:\n",
        "    term_context_matrix: A nxn numpy array, where n is\n",
        "        the numer of tokens in the vocab.\n",
        "  \n",
        "  Returns: A nxn numpy matrix, where A_ij is equal to the\n",
        "     point-wise mutual information between the ith word\n",
        "     and the jth word in the term_context_matrix.\n",
        "  '''       \n",
        "  target_counts = np.sum(term_context_matrix, axis = 1)\n",
        "  context_counts = np.sum(term_context_matrix, axis = 0)\n",
        "  total = np.sum(term_context_matrix) # matrix sum\n",
        "  PPMI_matrix = np.divide(np.multiply(term_context_matrix,total),np.multiply(target_counts,context_counts.T))\n",
        "  PPMI_matrix = np.maximum(0, np.log2(PPMI_matrix+1e-6))\n",
        "  \n",
        "  return PPMI_matrix"
      ],
      "execution_count": 0,
      "outputs": []
    },
    {
      "cell_type": "code",
      "metadata": {
        "id": "Adg1ux23lIU8",
        "colab_type": "code",
        "colab": {}
      },
      "source": [
        "# TASK 3.2\n",
        "def cluster_with_sparse_representation(word_to_paraphrases_dict, word_to_k_dict):\n",
        "    \"\"\"\n",
        "    Clusters paraphrases using sparse vector representation\n",
        "    :param word_to_paraphrases_dict: dictionary, where key is a target word and value is a list of paraphrases\n",
        "    :param word_to_k_dict: dictionary, where key is a target word and value is a number of clusters\n",
        "    :return: dictionary, where key is a target word and value is a list of list of paraphrases,\n",
        "    where each list corresponds to a cluster\n",
        "    \"\"\"\n",
        "    # Note: any vector representation should be in the same directory as this file\n",
        "    vectors_root_path = 'drive/My Drive/CIS-530/Homework 5/Data/vectors/'\n",
        "    vectors_path = 'coocvec-500mostfreq-window-3.filter.magnitude'\n",
        "    vectors = Magnitude(vectors_root_path + vectors_path)\n",
        "    clusterings = {}\n",
        "\n",
        "    for target_word in word_to_paraphrases_dict.keys():\n",
        "        paraphrase_list = word_to_paraphrases_dict[target_word]\n",
        "        clusters = []\n",
        "        k = word_to_k_dict[target_word]\n",
        "        chosen_paraphrases = set() # keep track of any paraphrases that may not be chosen\n",
        "        X = np.zeros((len(paraphrase_list), 500))\n",
        "        # build data matrix\n",
        "        for idx, paraphrase in enumerate(paraphrase_list):\n",
        "          X[idx,:] = vectors.query(paraphrase)\n",
        "        print(k, X.shape)\n",
        "        # X = create_PPMI_matrix(X)\n",
        "        kmeans = KMeans(n_clusters = k).fit(X)\n",
        "        for cluster in range(k):\n",
        "          cluster_list = [paraphrase_list[idx] \n",
        "                          for idx, label in enumerate(kmeans.labels_) \n",
        "                          if label == cluster]\n",
        "          # if len(cluster_list) == 0:\n",
        "          #   print('Empty cluster\\n')\n",
        "          chosen_paraphrases.update(cluster_list)\n",
        "          clusters.append(cluster_list)\n",
        "        for paraphrase in paraphrase_list:\n",
        "          if paraphrase not in chosen_paraphrases:\n",
        "            # choose a random cluster list and append unassigned word to it\n",
        "            random.choice(clusters).append(paraphrase) \n",
        "        clusterings[target_word] = clusters\n",
        "\n",
        "    return clusterings"
      ],
      "execution_count": 0,
      "outputs": []
    },
    {
      "cell_type": "code",
      "metadata": {
        "id": "0TxsDraa0Vcd",
        "colab_type": "code",
        "colab": {}
      },
      "source": [
        "# input_filepath = 'drive/My Drive/CIS-530/Homework 5/Data/data/dev_input.txt'\n",
        "# output_filepath = 'drive/My Drive/CIS-530/Homework 5/Data/data/dev_output.txt'\n",
        "# word_to_paraphrases_dict, word_to_k_dict = load_input_file(input_filepath)\n",
        "# gold_clusterings = load_output_file(output_filepath)\n",
        "# predicted_clusterings = cluster_with_sparse_representation(word_to_paraphrases_dict, word_to_k_dict)\n",
        "# evaluate_clusterings(gold_clusterings, predicted_clusterings)"
      ],
      "execution_count": 0,
      "outputs": []
    },
    {
      "cell_type": "code",
      "metadata": {
        "id": "G7tFR-iUHjjA",
        "colab_type": "code",
        "colab": {
          "base_uri": "https://localhost:8080/",
          "height": 306
        },
        "outputId": "668fc896-f7f1-4372-92fe-e9cfaa1de50e"
      },
      "source": [
        "word_to_paraphrases_dict, word_to_k_dict = load_input_file('drive/My Drive/CIS-530/Homework 5/Data/data/test_input.txt')\n",
        "predicted_clusterings = cluster_with_sparse_representation(word_to_paraphrases_dict, word_to_k_dict)\n",
        "write_to_output_file('drive/My Drive/CIS-530/Homework 5/test_output_sparse.txt', predicted_clusterings)"
      ],
      "execution_count": 87,
      "outputs": [
        {
          "output_type": "stream",
          "text": [
            "3 (3, 500)\n",
            "7 (43, 500)\n",
            "5 (16, 500)\n",
            "5 (11, 500)\n",
            "4 (35, 500)\n",
            "6 (11, 500)\n",
            "4 (67, 500)\n",
            "4 (17, 500)\n",
            "4 (11, 500)\n",
            "4 (23, 500)\n",
            "8 (22, 500)\n",
            "6 (58, 500)\n",
            "4 (31, 500)\n",
            "7 (33, 500)\n",
            "5 (5, 500)\n",
            "6 (32, 500)\n",
            "6 (41, 500)\n"
          ],
          "name": "stdout"
        }
      ]
    },
    {
      "cell_type": "code",
      "metadata": {
        "id": "YhU2IphPKyto",
        "colab_type": "code",
        "colab": {
          "base_uri": "https://localhost:8080/",
          "height": 34
        },
        "outputId": "f4ae2bce-1569-4a27-d8e1-6dbd0c23d426"
      },
      "source": [
        "vectors_root_path = 'drive/My Drive/CIS-530/Homework 5/Data/vectors/'\n",
        "vectors_path = 'coocvec-500mostfreq-window-3.filter.magnitude'\n",
        "vectors = Magnitude(vectors_root_path + vectors_path)\n",
        "len(vectors.query('apple'))"
      ],
      "execution_count": 92,
      "outputs": [
        {
          "output_type": "execute_result",
          "data": {
            "text/plain": [
              "500"
            ]
          },
          "metadata": {
            "tags": []
          },
          "execution_count": 92
        }
      ]
    },
    {
      "cell_type": "code",
      "metadata": {
        "id": "2vYezJCNMYRx",
        "colab_type": "code",
        "colab": {}
      },
      "source": [
        "pos_vectors = FeaturizerMagnitude(100, namespace = \"PartsOfSpeech\")\n",
        "dependency_vectors = FeaturizerMagnitude(100, namespace = \"SyntaxDependencies\")\n",
        "vectors = Magnitude(vectors, pos_vectors, dependency_vectors) # concatenate word2vec with pos and dependencies"
      ],
      "execution_count": 0,
      "outputs": []
    },
    {
      "cell_type": "code",
      "metadata": {
        "id": "gI68Pb0GN1Ps",
        "colab_type": "code",
        "colab": {
          "base_uri": "https://localhost:8080/",
          "height": 1000
        },
        "outputId": "7c163b88-e3c9-4e46-8941-9a8fd739a5ca"
      },
      "source": [
        "vectors.query('apple')"
      ],
      "execution_count": 94,
      "outputs": [
        {
          "output_type": "execute_result",
          "data": {
            "text/plain": [
              "array([ 1.95381052e-01,  1.70577230e-01,  2.21628730e-01,  1.38599663e-01,\n",
              "        6.92295931e-01,  4.84097471e-02,  2.43849652e-01,  1.20936248e-01,\n",
              "        8.65850911e-02,  9.21319264e-03,  4.06682454e-02, -9.89192765e-03,\n",
              "        4.93940925e-02,  3.69034742e-03,  2.95243732e-02,  1.50121031e-01,\n",
              "        9.38480413e-02,  2.45941478e-02, -2.00795136e-02,  1.26709975e-02,\n",
              "        8.63822738e-02,  1.19891342e-01,  2.13374622e-02,  4.23184866e-02,\n",
              "        3.14912795e-02, -1.22499143e-02,  5.32248855e-02, -1.93154570e-02,\n",
              "        3.30544096e-02,  2.65744333e-02,  4.26657099e-03,  1.76308849e-02,\n",
              "        1.59832186e-01,  4.92079055e-02,  2.70316141e-02,  2.50836347e-02,\n",
              "       -4.87311044e-03,  4.35066813e-02,  4.48182007e-02,  1.88388917e-02,\n",
              "       -9.59203989e-03,  4.31117955e-02,  9.41917013e-03,  1.37502214e-01,\n",
              "        2.93134454e-02,  5.14289479e-03, -8.51225102e-03, -1.04978969e-02,\n",
              "        2.46919039e-02, -2.17724829e-02,  2.97087583e-02, -2.37666780e-02,\n",
              "        8.03722833e-03, -2.71807169e-02, -1.13183741e-02,  1.72975409e-04,\n",
              "        8.37139383e-03, -1.78544694e-02,  1.68195307e-04, -1.68855599e-02,\n",
              "        4.76311273e-03,  1.57427218e-02,  3.56260764e-02,  4.35693312e-02,\n",
              "       -1.22892314e-02, -1.18421950e-02, -2.52926255e-02,  5.33091874e-03,\n",
              "        2.56753083e-03, -7.40100753e-03,  8.62367792e-04,  2.70392874e-03,\n",
              "        3.47789375e-02, -5.80169335e-03, -8.36922909e-03, -6.86146363e-03,\n",
              "        6.80845442e-03, -1.39810569e-02, -4.01370744e-03, -1.58114427e-02,\n",
              "        5.15555852e-02, -2.80788166e-03,  1.97683299e-02,  1.14341055e-01,\n",
              "        3.58498414e-02, -3.21133674e-02, -1.85135961e-02,  7.39152639e-03,\n",
              "       -2.29105564e-02,  1.80705351e-02, -1.07924815e-03,  4.19349909e-03,\n",
              "        1.67010184e-02,  2.45406344e-02,  1.51535492e-02,  5.89639131e-03,\n",
              "       -2.23180775e-02,  4.07378750e-03, -4.59430781e-02, -1.18548267e-03,\n",
              "       -2.98992871e-02, -1.13011287e-02, -1.69131811e-02,  2.58928036e-03,\n",
              "       -4.18200027e-03,  2.24218606e-02, -1.46567172e-02,  2.47208638e-03,\n",
              "        1.06502055e-03,  1.97365265e-02,  2.17702592e-02,  2.49090941e-02,\n",
              "       -5.76621504e-03,  2.77377277e-02, -8.84038258e-03,  8.67669527e-03,\n",
              "       -5.14888529e-04, -1.20031811e-03,  7.87484057e-03,  1.95467949e-03,\n",
              "        1.61960704e-02, -1.71239375e-02, -6.65751469e-03,  7.03298244e-03,\n",
              "       -3.42214597e-02, -8.53062165e-03,  2.47932925e-02,  1.39301785e-02,\n",
              "       -1.84487733e-02,  5.92007463e-03,  7.07898309e-03, -2.54865414e-02,\n",
              "       -5.63572549e-03,  3.83150207e-03,  3.78876384e-03, -1.76174952e-02,\n",
              "       -1.60818310e-02,  1.90287291e-02, -2.15248312e-02, -3.41095099e-03,\n",
              "        1.23216559e-03,  5.68450795e-03,  2.64497425e-02,  1.75688431e-02,\n",
              "        3.62383355e-03, -1.94074778e-02,  1.13287850e-02,  2.91941640e-02,\n",
              "       -1.42112255e-02, -3.32332212e-02, -2.45411228e-02, -2.41307119e-02,\n",
              "       -6.99193189e-03, -1.09481314e-04, -4.83703515e-04,  2.58234378e-02,\n",
              "       -6.59580490e-04,  2.35462531e-02, -3.10835324e-02, -2.74931687e-02,\n",
              "        3.32432896e-02, -2.22365907e-02,  1.81213650e-02, -3.24127050e-02,\n",
              "        4.78057399e-02,  1.01915232e-03, -1.06725768e-02, -1.71664719e-02,\n",
              "        2.74201997e-02, -1.61947632e-02,  1.13261024e-03, -1.51874865e-03,\n",
              "       -2.10772820e-02,  3.52385328e-03, -1.78805238e-04, -1.28725636e-02,\n",
              "       -2.81936109e-02,  2.44612421e-02,  2.46757430e-02,  3.03430182e-03,\n",
              "       -2.71596683e-02,  1.62377274e-03, -2.46621591e-03, -1.70985822e-02,\n",
              "       -8.77909184e-03,  1.40194987e-03,  3.99896959e-03,  4.72490857e-03,\n",
              "        1.15146662e-02,  2.15092207e-02,  2.51336693e-02,  9.79795833e-03,\n",
              "        2.84323465e-02, -1.08480348e-03, -2.03205750e-02, -2.06288194e-03,\n",
              "        2.66999270e-02,  3.03791011e-03,  1.64350617e-02, -1.31475486e-02,\n",
              "        2.08018204e-02, -2.85161854e-02, -1.01433158e-02, -4.65141440e-03,\n",
              "        3.97161265e-03, -4.23197965e-03,  1.25762258e-02, -1.26184974e-02,\n",
              "       -2.94045978e-02,  7.10497032e-03, -1.40600712e-02, -1.55189952e-03,\n",
              "        7.77048255e-03,  2.80774936e-02,  2.91964982e-03,  7.06947874e-03,\n",
              "        6.47583847e-03, -7.61627129e-03, -1.39004580e-02,  6.94027472e-03,\n",
              "       -1.18603784e-03, -1.10664185e-02,  9.17040024e-03, -1.09785135e-02,\n",
              "       -6.24060165e-04,  3.59232873e-02,  2.14122693e-03, -2.63420074e-02,\n",
              "       -3.73582298e-02, -1.23030028e-02, -7.40021502e-04, -2.93627335e-02,\n",
              "       -1.08958554e-02, -1.38221496e-02,  4.68365485e-04,  4.09712856e-02,\n",
              "       -8.93146494e-03, -4.26514797e-02,  6.78179212e-03,  2.95440590e-02,\n",
              "        8.61088682e-03,  2.96571107e-02,  1.69365209e-02, -9.73946619e-03,\n",
              "       -4.40265686e-03, -1.57732307e-02,  2.29634479e-03,  2.33692725e-03,\n",
              "        1.04677066e-03,  1.83708331e-02,  2.36471831e-02,  1.24861620e-02,\n",
              "       -2.02799699e-02,  3.43257402e-02,  2.50861473e-02,  1.25384802e-02,\n",
              "        1.57662035e-02, -2.38082911e-02, -8.31254568e-03,  1.38722830e-02,\n",
              "       -1.97928635e-02,  1.32221635e-02, -6.25776143e-03,  2.11496725e-02,\n",
              "        7.50306478e-03,  1.89906526e-02,  9.60090394e-03,  3.42888486e-03,\n",
              "        8.52987380e-03,  9.74793275e-03,  2.21330368e-02, -3.36808944e-03,\n",
              "       -8.15925890e-03, -1.58628650e-02, -7.90340437e-03,  2.42950332e-02,\n",
              "        7.75030205e-03,  2.79649337e-02,  7.53151410e-03, -5.71161717e-03,\n",
              "       -1.88990957e-02, -2.15925699e-02,  2.97598109e-02,  3.76185677e-02,\n",
              "       -2.09354839e-02, -2.67754353e-02,  9.05833938e-04, -2.72652001e-02,\n",
              "        1.75133979e-03, -2.35032889e-02, -4.64288600e-03,  1.23622173e-02,\n",
              "       -1.16546149e-03, -1.61686896e-02, -3.29737538e-02,  3.13770421e-02,\n",
              "       -9.66274363e-03,  1.82125322e-02,  3.17553772e-02, -2.00989627e-02,\n",
              "        4.36111978e-02, -1.01813791e-02,  8.30715546e-03,  1.26073261e-03,\n",
              "        5.61529913e-03,  5.68218276e-03,  7.10151916e-03,  2.40758725e-02,\n",
              "        1.63259432e-02,  2.24438432e-02,  1.45565892e-02,  1.00615207e-02,\n",
              "        1.10087477e-02,  6.74338952e-03,  1.27689608e-02,  1.24746489e-02,\n",
              "        1.22694310e-03,  2.22017132e-02,  1.41069011e-02,  9.04229532e-03,\n",
              "        2.66363353e-02,  4.72396869e-03,  1.19599498e-02,  6.25532659e-03,\n",
              "        3.43224063e-03, -8.83185859e-03,  1.41077242e-02, -4.86340599e-03,\n",
              "        3.08845708e-02,  1.44836892e-02, -7.11135705e-03,  3.04810971e-03,\n",
              "        2.13261531e-02, -6.81671955e-03,  1.66648926e-02, -1.27387156e-02,\n",
              "       -1.09617759e-02, -8.09823022e-03,  4.71622143e-03, -1.23170983e-02,\n",
              "       -5.24565875e-04,  2.54422531e-02, -1.05058816e-02, -3.27806481e-02,\n",
              "       -1.75879321e-02, -1.58869217e-02,  9.53126534e-03, -1.92443594e-02,\n",
              "        2.43584378e-02,  1.97785476e-02, -1.89224039e-02, -7.94023903e-04,\n",
              "        2.74262607e-02, -2.85277739e-02, -3.21306287e-03, -9.77682511e-03,\n",
              "       -1.53494010e-02, -1.24123748e-03, -1.56237867e-02, -1.40112860e-02,\n",
              "       -7.59085970e-05, -2.29061119e-03,  2.80533914e-02, -8.24569748e-03,\n",
              "        5.15463662e-03,  7.32566924e-03, -2.13880378e-02,  9.86495911e-03,\n",
              "        3.38316347e-02,  2.36460702e-02,  6.56648198e-04,  1.49287474e-02,\n",
              "       -4.49688469e-02,  2.79363954e-02, -6.13253560e-04, -5.45779731e-03,\n",
              "        6.39596986e-03,  1.80069657e-02, -8.10488553e-03, -1.78336434e-03,\n",
              "        4.83499566e-02,  4.08939481e-02,  1.88935487e-02, -3.81969682e-03,\n",
              "        6.62846419e-03,  2.05074536e-02,  1.08447616e-03, -1.54773130e-02,\n",
              "       -1.64251573e-02, -1.01528091e-02,  3.03046614e-03, -3.74926585e-03,\n",
              "        3.58379838e-02, -1.27609517e-02, -8.80287728e-03,  9.84334884e-03,\n",
              "        1.91722911e-03,  1.04953532e-02, -1.70114317e-02,  3.38443960e-03,\n",
              "        2.77402422e-03,  3.15073362e-02,  1.69880278e-02, -1.38371948e-03,\n",
              "       -1.65419733e-02,  2.97754262e-02, -1.67184672e-02, -4.89854884e-03,\n",
              "       -2.78239242e-02, -4.09564774e-04, -6.08706358e-03, -1.32611075e-02,\n",
              "       -5.34599172e-03,  1.71261857e-04, -9.18807587e-03, -1.50288150e-04,\n",
              "        6.76606834e-03,  2.24565642e-03,  3.83291978e-02, -2.45722307e-03,\n",
              "        1.71421061e-02,  2.54712834e-02,  3.85420983e-03,  3.51183949e-02,\n",
              "       -6.63916845e-03,  3.01151836e-02,  7.26344218e-02,  1.69171510e-02,\n",
              "        9.24756145e-03, -2.85275565e-02,  1.85645221e-02,  4.05217140e-02,\n",
              "       -1.02731516e-02, -8.04957496e-03, -6.32106477e-03, -8.60865057e-03,\n",
              "       -2.89720399e-02,  1.26655973e-02,  2.37025845e-02, -4.67263814e-04,\n",
              "       -2.28846114e-02, -3.81155763e-02,  2.38929252e-02, -1.89629188e-03,\n",
              "        3.40294453e-03,  3.28711565e-03,  1.99866412e-03,  2.24491899e-02,\n",
              "        7.83586035e-03, -3.62751319e-02, -2.00363313e-02,  1.41814939e-02,\n",
              "        3.17175114e-02,  1.07552490e-03, -2.28195675e-02,  1.77007933e-02,\n",
              "       -2.42838829e-02, -8.21176141e-03,  1.37005304e-02,  4.88148369e-03,\n",
              "       -1.35882804e-02,  1.97343831e-02,  2.76948597e-03, -1.83450891e-02,\n",
              "       -1.18049625e-02, -1.09037403e-02,  4.71161678e-04, -3.37130111e-02,\n",
              "        1.00979683e-01, -5.32771835e-04,  2.54371549e-02,  1.69316944e-02,\n",
              "       -2.95707419e-03,  1.66415169e-02, -2.29641927e-02,  5.21266265e-03,\n",
              "        1.85677263e-02, -4.40336517e-03, -1.96507685e-03,  2.04129673e-02,\n",
              "       -8.00654554e-03, -7.35309426e-03,  2.27207522e-02, -3.58304997e-02,\n",
              "        9.69010949e-03,  2.13443044e-02,  2.10088666e-02, -4.73486312e-04,\n",
              "        4.53387467e-03,  3.22529265e-03,  9.83288370e-03,  2.08338030e-02,\n",
              "       -1.58291732e-02, -6.61025813e-03, -7.56975074e-04,  4.34326295e-02,\n",
              "        1.14091154e-02,  2.31629967e-02,  2.46190516e-05,  8.74004625e-03,\n",
              "        1.77327879e-01,  2.51950680e-01, -1.90967155e-01, -9.31991000e-01,\n",
              "       -4.82355083e-01, -6.00560203e-01, -5.61107424e-01, -3.03017285e-01])"
            ]
          },
          "metadata": {
            "tags": []
          },
          "execution_count": 94
        }
      ]
    },
    {
      "cell_type": "code",
      "metadata": {
        "id": "GwZ0aHcjlLO8",
        "colab_type": "code",
        "colab": {}
      },
      "source": [
        "# TASK 3.3\n",
        "def cluster_with_dense_representation(word_to_paraphrases_dict, word_to_k_dict):\n",
        "    \"\"\"\n",
        "    Clusters paraphrases using dense vector representation\n",
        "    :param word_to_paraphrases_dict: dictionary, where key is a target word and value is a list of paraphrases\n",
        "    :param word_to_k_dict: dictionary, where key is a target word and value is a number of clusters\n",
        "    :return: dictionary, where key is a target word and value is a list of list of paraphrases,\n",
        "    where each list corresponds to a cluster\n",
        "    \"\"\"\n",
        "    # Note: any vector representation should be in the same directory as this file\n",
        "    vectors = Magnitude(\"GoogleNews-vectors-negative300.filter.magnitude\")\n",
        "    clusterings = {}\n",
        "\n",
        "    for target_word in word_to_paraphrases_dict.keys():\n",
        "        paraphrase_list = word_to_paraphrases_dict[target_word]\n",
        "        k = word_to_k_dict[target_word]\n",
        "        # TODO: Implement\n",
        "        clusterings[target_word] = None\n",
        "\n",
        "    return clusterings"
      ],
      "execution_count": 0,
      "outputs": []
    },
    {
      "cell_type": "code",
      "metadata": {
        "id": "A-ZAYAt9lN-R",
        "colab_type": "code",
        "colab": {}
      },
      "source": [
        "# TASK 3.4\n",
        "def cluster_with_no_k(word_to_paraphrases_dict):\n",
        "    \"\"\"\n",
        "    Clusters paraphrases using any vector representation\n",
        "    :param word_to_paraphrases_dict: dictionary, where key is a target word and value is a list of paraphrases\n",
        "    :return: dictionary, where key is a target word and value is a list of list of paraphrases,\n",
        "    where each list corresponds to a cluster\n",
        "    \"\"\"\n",
        "    # Note: any vector representation should be in the same directory as this file\n",
        "    vectors = Magnitude(\"GoogleNews-vectors-negative300.filter.magnitude\")\n",
        "    clusterings = {}\n",
        "\n",
        "    for target_word in word_to_paraphrases_dict.keys():\n",
        "        paraphrase_list = word_to_paraphrases_dict[target_word]\n",
        "        # TODO: Implement\n",
        "        clusterings[target_word] = None\n",
        "\n",
        "    return clusterings"
      ],
      "execution_count": 0,
      "outputs": []
    }
  ]
}